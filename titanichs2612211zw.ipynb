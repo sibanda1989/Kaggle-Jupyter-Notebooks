{
 "cells": [
  {
   "cell_type": "code",
   "execution_count": 1,
   "id": "4d075331",
   "metadata": {
    "execution": {
     "iopub.execute_input": "2022-01-03T14:20:00.094576Z",
     "iopub.status.busy": "2022-01-03T14:20:00.092480Z",
     "iopub.status.idle": "2022-01-03T14:20:01.188629Z",
     "shell.execute_reply": "2022-01-03T14:20:01.187711Z",
     "shell.execute_reply.started": "2022-01-03T14:12:48.027994Z"
    },
    "papermill": {
     "duration": 1.123299,
     "end_time": "2022-01-03T14:20:01.188839",
     "exception": false,
     "start_time": "2022-01-03T14:20:00.065540",
     "status": "completed"
    },
    "tags": []
   },
   "outputs": [],
   "source": [
    "import pandas as pd\n",
    "import numpy as np\n",
    "import matplotlib.pyplot as plt\n",
    "import seaborn as sns\n",
    "import missingno as msno"
   ]
  },
  {
   "cell_type": "code",
   "execution_count": 2,
   "id": "c8ad6e00",
   "metadata": {
    "execution": {
     "iopub.execute_input": "2022-01-03T14:20:01.236526Z",
     "iopub.status.busy": "2022-01-03T14:20:01.235815Z",
     "iopub.status.idle": "2022-01-03T14:20:01.259609Z",
     "shell.execute_reply": "2022-01-03T14:20:01.259027Z",
     "shell.execute_reply.started": "2022-01-03T14:12:48.050863Z"
    },
    "papermill": {
     "duration": 0.049691,
     "end_time": "2022-01-03T14:20:01.259792",
     "exception": false,
     "start_time": "2022-01-03T14:20:01.210101",
     "status": "completed"
    },
    "tags": []
   },
   "outputs": [
    {
     "name": "stdout",
     "output_type": "stream",
     "text": [
      "/kaggle/input/titanic/train.csv\n",
      "/kaggle/input/titanic/test.csv\n",
      "/kaggle/input/titanic/gender_submission.csv\n"
     ]
    }
   ],
   "source": [
    "# Input data files are available in the read-only \"../input/\" directory\n",
    "# For example, running this (by clicking run or pressing Shift+Enter) will list all files under the input directory\n",
    "\n",
    "import os\n",
    "for dirname, _, filenames in os.walk('/kaggle/input'):\n",
    "    for filename in filenames:\n",
    "        print(os.path.join(dirname, filename))\n",
    "\n",
    "# You can write up to 20GB to the current directory (/kaggle/working/) that gets preserved as output when you create a version using \"Save & Run All\" \n",
    "# You can also write temporary files to /kaggle/temp/, but they won't be saved outside of the current session"
   ]
  },
  {
   "cell_type": "code",
   "execution_count": 3,
   "id": "3cbeefdb",
   "metadata": {
    "execution": {
     "iopub.execute_input": "2022-01-03T14:20:01.308069Z",
     "iopub.status.busy": "2022-01-03T14:20:01.307253Z",
     "iopub.status.idle": "2022-01-03T14:20:01.362128Z",
     "shell.execute_reply": "2022-01-03T14:20:01.362701Z",
     "shell.execute_reply.started": "2022-01-03T14:12:48.064143Z"
    },
    "papermill": {
     "duration": 0.082081,
     "end_time": "2022-01-03T14:20:01.362906",
     "exception": false,
     "start_time": "2022-01-03T14:20:01.280825",
     "status": "completed"
    },
    "tags": []
   },
   "outputs": [
    {
     "data": {
      "text/html": [
       "<div>\n",
       "<style scoped>\n",
       "    .dataframe tbody tr th:only-of-type {\n",
       "        vertical-align: middle;\n",
       "    }\n",
       "\n",
       "    .dataframe tbody tr th {\n",
       "        vertical-align: top;\n",
       "    }\n",
       "\n",
       "    .dataframe thead th {\n",
       "        text-align: right;\n",
       "    }\n",
       "</style>\n",
       "<table border=\"1\" class=\"dataframe\">\n",
       "  <thead>\n",
       "    <tr style=\"text-align: right;\">\n",
       "      <th></th>\n",
       "      <th>PassengerId</th>\n",
       "      <th>Survived</th>\n",
       "      <th>Pclass</th>\n",
       "      <th>Name</th>\n",
       "      <th>Sex</th>\n",
       "      <th>Age</th>\n",
       "      <th>SibSp</th>\n",
       "      <th>Parch</th>\n",
       "      <th>Ticket</th>\n",
       "      <th>Fare</th>\n",
       "      <th>Cabin</th>\n",
       "      <th>Embarked</th>\n",
       "    </tr>\n",
       "  </thead>\n",
       "  <tbody>\n",
       "    <tr>\n",
       "      <th>0</th>\n",
       "      <td>1</td>\n",
       "      <td>0</td>\n",
       "      <td>3</td>\n",
       "      <td>Braund, Mr. Owen Harris</td>\n",
       "      <td>male</td>\n",
       "      <td>22.0</td>\n",
       "      <td>1</td>\n",
       "      <td>0</td>\n",
       "      <td>A/5 21171</td>\n",
       "      <td>7.2500</td>\n",
       "      <td>NaN</td>\n",
       "      <td>S</td>\n",
       "    </tr>\n",
       "    <tr>\n",
       "      <th>1</th>\n",
       "      <td>2</td>\n",
       "      <td>1</td>\n",
       "      <td>1</td>\n",
       "      <td>Cumings, Mrs. John Bradley (Florence Briggs Th...</td>\n",
       "      <td>female</td>\n",
       "      <td>38.0</td>\n",
       "      <td>1</td>\n",
       "      <td>0</td>\n",
       "      <td>PC 17599</td>\n",
       "      <td>71.2833</td>\n",
       "      <td>C85</td>\n",
       "      <td>C</td>\n",
       "    </tr>\n",
       "    <tr>\n",
       "      <th>2</th>\n",
       "      <td>3</td>\n",
       "      <td>1</td>\n",
       "      <td>3</td>\n",
       "      <td>Heikkinen, Miss. Laina</td>\n",
       "      <td>female</td>\n",
       "      <td>26.0</td>\n",
       "      <td>0</td>\n",
       "      <td>0</td>\n",
       "      <td>STON/O2. 3101282</td>\n",
       "      <td>7.9250</td>\n",
       "      <td>NaN</td>\n",
       "      <td>S</td>\n",
       "    </tr>\n",
       "    <tr>\n",
       "      <th>3</th>\n",
       "      <td>4</td>\n",
       "      <td>1</td>\n",
       "      <td>1</td>\n",
       "      <td>Futrelle, Mrs. Jacques Heath (Lily May Peel)</td>\n",
       "      <td>female</td>\n",
       "      <td>35.0</td>\n",
       "      <td>1</td>\n",
       "      <td>0</td>\n",
       "      <td>113803</td>\n",
       "      <td>53.1000</td>\n",
       "      <td>C123</td>\n",
       "      <td>S</td>\n",
       "    </tr>\n",
       "    <tr>\n",
       "      <th>4</th>\n",
       "      <td>5</td>\n",
       "      <td>0</td>\n",
       "      <td>3</td>\n",
       "      <td>Allen, Mr. William Henry</td>\n",
       "      <td>male</td>\n",
       "      <td>35.0</td>\n",
       "      <td>0</td>\n",
       "      <td>0</td>\n",
       "      <td>373450</td>\n",
       "      <td>8.0500</td>\n",
       "      <td>NaN</td>\n",
       "      <td>S</td>\n",
       "    </tr>\n",
       "    <tr>\n",
       "      <th>5</th>\n",
       "      <td>6</td>\n",
       "      <td>0</td>\n",
       "      <td>3</td>\n",
       "      <td>Moran, Mr. James</td>\n",
       "      <td>male</td>\n",
       "      <td>NaN</td>\n",
       "      <td>0</td>\n",
       "      <td>0</td>\n",
       "      <td>330877</td>\n",
       "      <td>8.4583</td>\n",
       "      <td>NaN</td>\n",
       "      <td>Q</td>\n",
       "    </tr>\n",
       "    <tr>\n",
       "      <th>6</th>\n",
       "      <td>7</td>\n",
       "      <td>0</td>\n",
       "      <td>1</td>\n",
       "      <td>McCarthy, Mr. Timothy J</td>\n",
       "      <td>male</td>\n",
       "      <td>54.0</td>\n",
       "      <td>0</td>\n",
       "      <td>0</td>\n",
       "      <td>17463</td>\n",
       "      <td>51.8625</td>\n",
       "      <td>E46</td>\n",
       "      <td>S</td>\n",
       "    </tr>\n",
       "    <tr>\n",
       "      <th>7</th>\n",
       "      <td>8</td>\n",
       "      <td>0</td>\n",
       "      <td>3</td>\n",
       "      <td>Palsson, Master. Gosta Leonard</td>\n",
       "      <td>male</td>\n",
       "      <td>2.0</td>\n",
       "      <td>3</td>\n",
       "      <td>1</td>\n",
       "      <td>349909</td>\n",
       "      <td>21.0750</td>\n",
       "      <td>NaN</td>\n",
       "      <td>S</td>\n",
       "    </tr>\n",
       "    <tr>\n",
       "      <th>8</th>\n",
       "      <td>9</td>\n",
       "      <td>1</td>\n",
       "      <td>3</td>\n",
       "      <td>Johnson, Mrs. Oscar W (Elisabeth Vilhelmina Berg)</td>\n",
       "      <td>female</td>\n",
       "      <td>27.0</td>\n",
       "      <td>0</td>\n",
       "      <td>2</td>\n",
       "      <td>347742</td>\n",
       "      <td>11.1333</td>\n",
       "      <td>NaN</td>\n",
       "      <td>S</td>\n",
       "    </tr>\n",
       "    <tr>\n",
       "      <th>9</th>\n",
       "      <td>10</td>\n",
       "      <td>1</td>\n",
       "      <td>2</td>\n",
       "      <td>Nasser, Mrs. Nicholas (Adele Achem)</td>\n",
       "      <td>female</td>\n",
       "      <td>14.0</td>\n",
       "      <td>1</td>\n",
       "      <td>0</td>\n",
       "      <td>237736</td>\n",
       "      <td>30.0708</td>\n",
       "      <td>NaN</td>\n",
       "      <td>C</td>\n",
       "    </tr>\n",
       "  </tbody>\n",
       "</table>\n",
       "</div>"
      ],
      "text/plain": [
       "   PassengerId  Survived  Pclass  \\\n",
       "0            1         0       3   \n",
       "1            2         1       1   \n",
       "2            3         1       3   \n",
       "3            4         1       1   \n",
       "4            5         0       3   \n",
       "5            6         0       3   \n",
       "6            7         0       1   \n",
       "7            8         0       3   \n",
       "8            9         1       3   \n",
       "9           10         1       2   \n",
       "\n",
       "                                                Name     Sex   Age  SibSp  \\\n",
       "0                            Braund, Mr. Owen Harris    male  22.0      1   \n",
       "1  Cumings, Mrs. John Bradley (Florence Briggs Th...  female  38.0      1   \n",
       "2                             Heikkinen, Miss. Laina  female  26.0      0   \n",
       "3       Futrelle, Mrs. Jacques Heath (Lily May Peel)  female  35.0      1   \n",
       "4                           Allen, Mr. William Henry    male  35.0      0   \n",
       "5                                   Moran, Mr. James    male   NaN      0   \n",
       "6                            McCarthy, Mr. Timothy J    male  54.0      0   \n",
       "7                     Palsson, Master. Gosta Leonard    male   2.0      3   \n",
       "8  Johnson, Mrs. Oscar W (Elisabeth Vilhelmina Berg)  female  27.0      0   \n",
       "9                Nasser, Mrs. Nicholas (Adele Achem)  female  14.0      1   \n",
       "\n",
       "   Parch            Ticket     Fare Cabin Embarked  \n",
       "0      0         A/5 21171   7.2500   NaN        S  \n",
       "1      0          PC 17599  71.2833   C85        C  \n",
       "2      0  STON/O2. 3101282   7.9250   NaN        S  \n",
       "3      0            113803  53.1000  C123        S  \n",
       "4      0            373450   8.0500   NaN        S  \n",
       "5      0            330877   8.4583   NaN        Q  \n",
       "6      0             17463  51.8625   E46        S  \n",
       "7      1            349909  21.0750   NaN        S  \n",
       "8      2            347742  11.1333   NaN        S  \n",
       "9      0            237736  30.0708   NaN        C  "
      ]
     },
     "execution_count": 3,
     "metadata": {},
     "output_type": "execute_result"
    }
   ],
   "source": [
    "train_df = pd.read_csv('/kaggle/input/titanic/train.csv')\n",
    "test_df = pd.read_csv('/kaggle/input/titanic/test.csv')\n",
    "\n",
    "train_df.head(10)"
   ]
  },
  {
   "cell_type": "code",
   "execution_count": 4,
   "id": "bf5b9b4c",
   "metadata": {
    "execution": {
     "iopub.execute_input": "2022-01-03T14:20:01.434586Z",
     "iopub.status.busy": "2022-01-03T14:20:01.433798Z",
     "iopub.status.idle": "2022-01-03T14:20:01.437038Z",
     "shell.execute_reply": "2022-01-03T14:20:01.437592Z",
     "shell.execute_reply.started": "2022-01-03T14:12:48.099710Z"
    },
    "papermill": {
     "duration": 0.052472,
     "end_time": "2022-01-03T14:20:01.437817",
     "exception": false,
     "start_time": "2022-01-03T14:20:01.385345",
     "status": "completed"
    },
    "tags": []
   },
   "outputs": [
    {
     "name": "stdout",
     "output_type": "stream",
     "text": [
      "<class 'pandas.core.frame.DataFrame'>\n",
      "RangeIndex: 891 entries, 0 to 890\n",
      "Data columns (total 12 columns):\n",
      " #   Column       Non-Null Count  Dtype  \n",
      "---  ------       --------------  -----  \n",
      " 0   PassengerId  891 non-null    int64  \n",
      " 1   Survived     891 non-null    int64  \n",
      " 2   Pclass       891 non-null    int64  \n",
      " 3   Name         891 non-null    object \n",
      " 4   Sex          891 non-null    object \n",
      " 5   Age          714 non-null    float64\n",
      " 6   SibSp        891 non-null    int64  \n",
      " 7   Parch        891 non-null    int64  \n",
      " 8   Ticket       891 non-null    object \n",
      " 9   Fare         891 non-null    float64\n",
      " 10  Cabin        204 non-null    object \n",
      " 11  Embarked     889 non-null    object \n",
      "dtypes: float64(2), int64(5), object(5)\n",
      "memory usage: 83.7+ KB\n"
     ]
    }
   ],
   "source": [
    "train_df.info()"
   ]
  },
  {
   "cell_type": "code",
   "execution_count": 5,
   "id": "06f0374c",
   "metadata": {
    "execution": {
     "iopub.execute_input": "2022-01-03T14:20:01.488333Z",
     "iopub.status.busy": "2022-01-03T14:20:01.487583Z",
     "iopub.status.idle": "2022-01-03T14:20:01.494867Z",
     "shell.execute_reply": "2022-01-03T14:20:01.494241Z",
     "shell.execute_reply.started": "2022-01-03T14:12:48.114224Z"
    },
    "papermill": {
     "duration": 0.035262,
     "end_time": "2022-01-03T14:20:01.495068",
     "exception": false,
     "start_time": "2022-01-03T14:20:01.459806",
     "status": "completed"
    },
    "tags": []
   },
   "outputs": [
    {
     "data": {
      "text/plain": [
       "347082      7\n",
       "CA. 2343    7\n",
       "1601        7\n",
       "3101295     6\n",
       "CA 2144     6\n",
       "           ..\n",
       "9234        1\n",
       "19988       1\n",
       "2693        1\n",
       "PC 17612    1\n",
       "370376      1\n",
       "Name: Ticket, Length: 681, dtype: int64"
      ]
     },
     "execution_count": 5,
     "metadata": {},
     "output_type": "execute_result"
    }
   ],
   "source": [
    "train_df[\"Ticket\"].value_counts()"
   ]
  },
  {
   "cell_type": "code",
   "execution_count": 6,
   "id": "29703061",
   "metadata": {
    "execution": {
     "iopub.execute_input": "2022-01-03T14:20:01.549029Z",
     "iopub.status.busy": "2022-01-03T14:20:01.542685Z",
     "iopub.status.idle": "2022-01-03T14:20:01.552574Z",
     "shell.execute_reply": "2022-01-03T14:20:01.551845Z",
     "shell.execute_reply.started": "2022-01-03T14:12:48.126492Z"
    },
    "papermill": {
     "duration": 0.035444,
     "end_time": "2022-01-03T14:20:01.552737",
     "exception": false,
     "start_time": "2022-01-03T14:20:01.517293",
     "status": "completed"
    },
    "tags": []
   },
   "outputs": [
    {
     "data": {
      "text/plain": [
       "B96 B98        4\n",
       "G6             4\n",
       "C23 C25 C27    4\n",
       "C22 C26        3\n",
       "F33            3\n",
       "              ..\n",
       "E34            1\n",
       "C7             1\n",
       "C54            1\n",
       "E36            1\n",
       "C148           1\n",
       "Name: Cabin, Length: 147, dtype: int64"
      ]
     },
     "execution_count": 6,
     "metadata": {},
     "output_type": "execute_result"
    }
   ],
   "source": [
    "train_df[\"Cabin\"].value_counts()"
   ]
  },
  {
   "cell_type": "code",
   "execution_count": 7,
   "id": "4c320b1b",
   "metadata": {
    "execution": {
     "iopub.execute_input": "2022-01-03T14:20:01.609658Z",
     "iopub.status.busy": "2022-01-03T14:20:01.608866Z",
     "iopub.status.idle": "2022-01-03T14:20:01.613235Z",
     "shell.execute_reply": "2022-01-03T14:20:01.612586Z",
     "shell.execute_reply.started": "2022-01-03T14:12:48.139324Z"
    },
    "papermill": {
     "duration": 0.038037,
     "end_time": "2022-01-03T14:20:01.613425",
     "exception": false,
     "start_time": "2022-01-03T14:20:01.575388",
     "status": "completed"
    },
    "tags": []
   },
   "outputs": [
    {
     "data": {
      "text/plain": [
       "8.0500     43\n",
       "13.0000    42\n",
       "7.8958     38\n",
       "7.7500     34\n",
       "26.0000    31\n",
       "           ..\n",
       "35.0000     1\n",
       "28.5000     1\n",
       "6.2375      1\n",
       "14.0000     1\n",
       "10.5167     1\n",
       "Name: Fare, Length: 248, dtype: int64"
      ]
     },
     "execution_count": 7,
     "metadata": {},
     "output_type": "execute_result"
    }
   ],
   "source": [
    "train_df[\"Fare\"].value_counts()"
   ]
  },
  {
   "cell_type": "markdown",
   "id": "726b3d10",
   "metadata": {
    "papermill": {
     "duration": 0.02274,
     "end_time": "2022-01-03T14:20:01.660223",
     "exception": false,
     "start_time": "2022-01-03T14:20:01.637483",
     "status": "completed"
    },
    "tags": []
   },
   "source": [
    "Investigating the height distribution versus those who survived/did not survive"
   ]
  },
  {
   "cell_type": "code",
   "execution_count": 8,
   "id": "d9b6547e",
   "metadata": {
    "execution": {
     "iopub.execute_input": "2022-01-03T14:20:01.724538Z",
     "iopub.status.busy": "2022-01-03T14:20:01.717535Z",
     "iopub.status.idle": "2022-01-03T14:20:02.192662Z",
     "shell.execute_reply": "2022-01-03T14:20:02.192059Z",
     "shell.execute_reply.started": "2022-01-03T14:12:48.152597Z"
    },
    "papermill": {
     "duration": 0.509463,
     "end_time": "2022-01-03T14:20:02.192830",
     "exception": false,
     "start_time": "2022-01-03T14:20:01.683367",
     "status": "completed"
    },
    "tags": []
   },
   "outputs": [
    {
     "data": {
      "text/plain": [
       "<AxesSubplot:xlabel='Age', ylabel='Count'>"
      ]
     },
     "execution_count": 8,
     "metadata": {},
     "output_type": "execute_result"
    },
    {
     "data": {
      "image/png": "[encoded data removed]",
      "text/plain": [
       "<Figure size 432x288 with 1 Axes>"
      ]
     },
     "metadata": {
      "needs_background": "light"
     },
     "output_type": "display_data"
    }
   ],
   "source": [
    "sns.histplot(data=train_df, x=\"Age\", hue=\"Survived\", multiple=\"stack\")"
   ]
  },
  {
   "cell_type": "markdown",
   "id": "9254f551",
   "metadata": {
    "papermill": {
     "duration": 0.023525,
     "end_time": "2022-01-03T14:20:02.240323",
     "exception": false,
     "start_time": "2022-01-03T14:20:02.216798",
     "status": "completed"
    },
    "tags": []
   },
   "source": [
    "**Observation**\n",
    "It seems there was an almost 50% survival rate per age bin"
   ]
  },
  {
   "cell_type": "code",
   "execution_count": 9,
   "id": "40369ec5",
   "metadata": {
    "execution": {
     "iopub.execute_input": "2022-01-03T14:20:02.291576Z",
     "iopub.status.busy": "2022-01-03T14:20:02.290878Z",
     "iopub.status.idle": "2022-01-03T14:20:02.564367Z",
     "shell.execute_reply": "2022-01-03T14:20:02.564937Z",
     "shell.execute_reply.started": "2022-01-03T14:12:48.544989Z"
    },
    "papermill": {
     "duration": 0.300632,
     "end_time": "2022-01-03T14:20:02.565159",
     "exception": false,
     "start_time": "2022-01-03T14:20:02.264527",
     "status": "completed"
    },
    "tags": []
   },
   "outputs": [
    {
     "data": {
      "text/plain": [
       "<AxesSubplot:xlabel='Sex', ylabel='Count'>"
      ]
     },
     "execution_count": 9,
     "metadata": {},
     "output_type": "execute_result"
    },
    {
     "data": {
      "image/png": "[encoded data removed]",
      "text/plain": [
       "<Figure size 432x288 with 1 Axes>"
      ]
     },
     "metadata": {
      "needs_background": "light"
     },
     "output_type": "display_data"
    }
   ],
   "source": [
    "sns.histplot(data=train_df, x=\"Sex\", hue=\"Survived\", multiple=\"dodge\", shrink=.8)"
   ]
  },
  {
   "cell_type": "markdown",
   "id": "a2a12cfb",
   "metadata": {
    "papermill": {
     "duration": 0.025156,
     "end_time": "2022-01-03T14:20:02.615867",
     "exception": false,
     "start_time": "2022-01-03T14:20:02.590711",
     "status": "completed"
    },
    "tags": []
   },
   "source": [
    "It seems like more male passengers died than females. Also the number of males on board the ship was higher than that of females"
   ]
  },
  {
   "cell_type": "code",
   "execution_count": 10,
   "id": "66c6cf6c",
   "metadata": {
    "execution": {
     "iopub.execute_input": "2022-01-03T14:20:02.677522Z",
     "iopub.status.busy": "2022-01-03T14:20:02.670818Z",
     "iopub.status.idle": "2022-01-03T14:20:02.917111Z",
     "shell.execute_reply": "2022-01-03T14:20:02.917708Z",
     "shell.execute_reply.started": "2022-01-03T14:12:48.742296Z"
    },
    "papermill": {
     "duration": 0.275878,
     "end_time": "2022-01-03T14:20:02.917961",
     "exception": false,
     "start_time": "2022-01-03T14:20:02.642083",
     "status": "completed"
    },
    "tags": []
   },
   "outputs": [
    {
     "data": {
      "image/png": "[encoded data removed]",
      "text/plain": [
       "<Figure size 432x288 with 1 Axes>"
      ]
     },
     "metadata": {
      "needs_background": "light"
     },
     "output_type": "display_data"
    }
   ],
   "source": [
    "#Boxplotting Age\n",
    "ax = sns.boxplot(x=\"Sex\", y=\"Age\", data = train_df)"
   ]
  },
  {
   "cell_type": "markdown",
   "id": "733998e8",
   "metadata": {
    "papermill": {
     "duration": 0.026746,
     "end_time": "2022-01-03T14:20:02.972325",
     "exception": false,
     "start_time": "2022-01-03T14:20:02.945579",
     "status": "completed"
    },
    "tags": []
   },
   "source": [
    "It seems there are some outliers in the Male Ages, so we will use median to fill in missing values"
   ]
  },
  {
   "cell_type": "code",
   "execution_count": 11,
   "id": "03ef2d87",
   "metadata": {
    "execution": {
     "iopub.execute_input": "2022-01-03T14:20:03.029398Z",
     "iopub.status.busy": "2022-01-03T14:20:03.028352Z",
     "iopub.status.idle": "2022-01-03T14:20:03.033591Z",
     "shell.execute_reply": "2022-01-03T14:20:03.034179Z",
     "shell.execute_reply.started": "2022-01-03T14:12:48.902629Z"
    },
    "papermill": {
     "duration": 0.035881,
     "end_time": "2022-01-03T14:20:03.034407",
     "exception": false,
     "start_time": "2022-01-03T14:20:02.998526",
     "status": "completed"
    },
    "tags": []
   },
   "outputs": [],
   "source": [
    "#Copies of train_df and test_df\n",
    "train_tr = train_df.copy()\n",
    "test_tr = test_df.copy()"
   ]
  },
  {
   "cell_type": "code",
   "execution_count": 12,
   "id": "de7e366e",
   "metadata": {
    "execution": {
     "iopub.execute_input": "2022-01-03T14:20:03.092830Z",
     "iopub.status.busy": "2022-01-03T14:20:03.091634Z",
     "iopub.status.idle": "2022-01-03T14:20:03.105550Z",
     "shell.execute_reply": "2022-01-03T14:20:03.106143Z",
     "shell.execute_reply.started": "2022-01-03T14:12:48.910598Z"
    },
    "papermill": {
     "duration": 0.045805,
     "end_time": "2022-01-03T14:20:03.106378",
     "exception": false,
     "start_time": "2022-01-03T14:20:03.060573",
     "status": "completed"
    },
    "tags": []
   },
   "outputs": [
    {
     "data": {
      "text/plain": [
       "PassengerId      0\n",
       "Survived         0\n",
       "Pclass           0\n",
       "Name             0\n",
       "Sex              0\n",
       "Age              0\n",
       "SibSp            0\n",
       "Parch            0\n",
       "Ticket           0\n",
       "Fare             0\n",
       "Cabin          687\n",
       "Embarked         2\n",
       "dtype: int64"
      ]
     },
     "execution_count": 12,
     "metadata": {},
     "output_type": "execute_result"
    }
   ],
   "source": [
    "train_tr['Age'].fillna(train_tr['Age'].median(), inplace=True)\n",
    "test_tr['Age'].fillna(test_tr['Age'].median(), inplace=True)\n",
    "\n",
    "train_tr.isnull().sum()\n"
   ]
  },
  {
   "cell_type": "code",
   "execution_count": 13,
   "id": "ca4c27cc",
   "metadata": {
    "execution": {
     "iopub.execute_input": "2022-01-03T14:20:03.167724Z",
     "iopub.status.busy": "2022-01-03T14:20:03.166978Z",
     "iopub.status.idle": "2022-01-03T14:20:03.827513Z",
     "shell.execute_reply": "2022-01-03T14:20:03.826780Z",
     "shell.execute_reply.started": "2022-01-03T14:12:48.927675Z"
    },
    "papermill": {
     "duration": 0.693856,
     "end_time": "2022-01-03T14:20:03.827691",
     "exception": false,
     "start_time": "2022-01-03T14:20:03.133835",
     "status": "completed"
    },
    "tags": []
   },
   "outputs": [
    {
     "data": {
      "text/plain": [
       "<AxesSubplot:>"
      ]
     },
     "execution_count": 13,
     "metadata": {},
     "output_type": "execute_result"
    },
    {
     "data": {
      "image/png": "[encoded data removed]",
      "text/plain": [
       "<Figure size 1800x720 with 2 Axes>"
      ]
     },
     "metadata": {
      "needs_background": "light"
     },
     "output_type": "display_data"
    }
   ],
   "source": [
    "#Lets have a look at the missing values matrix\n",
    "msno.matrix(train_tr)"
   ]
  },
  {
   "cell_type": "markdown",
   "id": "cd61cefd",
   "metadata": {
    "papermill": {
     "duration": 0.027634,
     "end_time": "2022-01-03T14:20:03.883507",
     "exception": false,
     "start_time": "2022-01-03T14:20:03.855873",
     "status": "completed"
    },
    "tags": []
   },
   "source": []
  },
  {
   "cell_type": "markdown",
   "id": "4aee428c",
   "metadata": {
    "papermill": {
     "duration": 0.027712,
     "end_time": "2022-01-03T14:20:03.940342",
     "exception": false,
     "start_time": "2022-01-03T14:20:03.912630",
     "status": "completed"
    },
    "tags": []
   },
   "source": [
    "Embarked column has 2 missing values, but Cabin has a lot of missing values."
   ]
  },
  {
   "cell_type": "code",
   "execution_count": 14,
   "id": "e85d6baa",
   "metadata": {
    "execution": {
     "iopub.execute_input": "2022-01-03T14:20:03.999283Z",
     "iopub.status.busy": "2022-01-03T14:20:03.998589Z",
     "iopub.status.idle": "2022-01-03T14:20:04.305806Z",
     "shell.execute_reply": "2022-01-03T14:20:04.305245Z",
     "shell.execute_reply.started": "2022-01-03T14:12:49.494814Z"
    },
    "papermill": {
     "duration": 0.337821,
     "end_time": "2022-01-03T14:20:04.305968",
     "exception": false,
     "start_time": "2022-01-03T14:20:03.968147",
     "status": "completed"
    },
    "tags": []
   },
   "outputs": [
    {
     "data": {
      "text/plain": [
       "<AxesSubplot:xlabel='Embarked', ylabel='Count'>"
      ]
     },
     "execution_count": 14,
     "metadata": {},
     "output_type": "execute_result"
    },
    {
     "data": {
      "image/png": "[encoded data removed]",
      "text/plain": [
       "<Figure size 432x288 with 1 Axes>"
      ]
     },
     "metadata": {
      "needs_background": "light"
     },
     "output_type": "display_data"
    }
   ],
   "source": [
    "sns.histplot(data=train_tr, x=\"Embarked\", hue=\"Survived\", multiple=\"dodge\", shrink=.8)"
   ]
  },
  {
   "cell_type": "markdown",
   "id": "14f60a59",
   "metadata": {
    "papermill": {
     "duration": 0.028659,
     "end_time": "2022-01-03T14:20:04.363385",
     "exception": false,
     "start_time": "2022-01-03T14:20:04.334726",
     "status": "completed"
    },
    "tags": []
   },
   "source": [
    "Further EDA to see relationships between the features, and also to the targetted label."
   ]
  },
  {
   "cell_type": "code",
   "execution_count": 15,
   "id": "78549ec0",
   "metadata": {
    "execution": {
     "iopub.execute_input": "2022-01-03T14:20:04.434464Z",
     "iopub.status.busy": "2022-01-03T14:20:04.432226Z",
     "iopub.status.idle": "2022-01-03T14:20:04.712788Z",
     "shell.execute_reply": "2022-01-03T14:20:04.713347Z",
     "shell.execute_reply.started": "2022-01-03T14:12:49.759089Z"
    },
    "papermill": {
     "duration": 0.320753,
     "end_time": "2022-01-03T14:20:04.713549",
     "exception": false,
     "start_time": "2022-01-03T14:20:04.392796",
     "status": "completed"
    },
    "tags": []
   },
   "outputs": [
    {
     "data": {
      "text/plain": [
       "Text(0.5, 1.0, 'Age by Passenger Class, Titanic')"
      ]
     },
     "execution_count": 15,
     "metadata": {},
     "output_type": "execute_result"
    },
    {
     "data": {
      "image/png": "[encoded data removed]",
      "text/plain": [
       "<Figure size 576x360 with 1 Axes>"
      ]
     },
     "metadata": {
      "needs_background": "light"
     },
     "output_type": "display_data"
    }
   ],
   "source": [
    "#Relationship between age and passenger class\n",
    "plt.figure(figsize=(8,5))\n",
    "sns.boxplot(x='Pclass',y='Age',data=train_tr, palette='rainbow')\n",
    "plt.title(\"Age by Passenger Class, Titanic\")"
   ]
  },
  {
   "cell_type": "markdown",
   "id": "09a58cc2",
   "metadata": {
    "papermill": {
     "duration": 0.029447,
     "end_time": "2022-01-03T14:20:04.772636",
     "exception": false,
     "start_time": "2022-01-03T14:20:04.743189",
     "status": "completed"
    },
    "tags": []
   },
   "source": [
    "Generally, Passenger Classes differ by age group"
   ]
  },
  {
   "cell_type": "code",
   "execution_count": 16,
   "id": "9d36e7c2",
   "metadata": {
    "execution": {
     "iopub.execute_input": "2022-01-03T14:20:04.836918Z",
     "iopub.status.busy": "2022-01-03T14:20:04.835838Z",
     "iopub.status.idle": "2022-01-03T14:20:05.429057Z",
     "shell.execute_reply": "2022-01-03T14:20:05.428466Z",
     "shell.execute_reply.started": "2022-01-03T14:14:57.128277Z"
    },
    "papermill": {
     "duration": 0.626566,
     "end_time": "2022-01-03T14:20:05.429238",
     "exception": false,
     "start_time": "2022-01-03T14:20:04.802672",
     "status": "completed"
    },
    "tags": []
   },
   "outputs": [
    {
     "data": {
      "text/plain": [
       "<seaborn.axisgrid.FacetGrid at 0x7f477d2b5e50>"
      ]
     },
     "execution_count": 16,
     "metadata": {},
     "output_type": "execute_result"
    },
    {
     "data": {
      "text/plain": [
       "<Figure size 576x864 with 0 Axes>"
      ]
     },
     "metadata": {},
     "output_type": "display_data"
    },
    {
     "data": {
      "image/png": "[encoded data removed]",
      "text/plain": [
       "<Figure size 421.55x360 with 1 Axes>"
      ]
     },
     "metadata": {},
     "output_type": "display_data"
    }
   ],
   "source": [
    "plt.figure(figsize=(8,12))\n",
    "sns.set_theme(style=\"ticks\")\n",
    "sns.catplot(data=train_tr, x=\"Pclass\", y=\"Fare\", hue=\"Survived\")"
   ]
  },
  {
   "cell_type": "markdown",
   "id": "1e511c00",
   "metadata": {
    "papermill": {
     "duration": 0.034226,
     "end_time": "2022-01-03T14:20:05.495524",
     "exception": false,
     "start_time": "2022-01-03T14:20:05.461298",
     "status": "completed"
    },
    "tags": []
   },
   "source": [
    "Those who paid higher fares were place in Pclass 1, Pclass 2 seems to be the middle class. Consequently, a higher proportion of those in Pclass 3 (the lowest class) died as compared to the other classes."
   ]
  },
  {
   "cell_type": "code",
   "execution_count": null,
   "id": "0dc5e8a3",
   "metadata": {
    "papermill": {
     "duration": 0.031771,
     "end_time": "2022-01-03T14:20:05.559409",
     "exception": false,
     "start_time": "2022-01-03T14:20:05.527638",
     "status": "completed"
    },
    "tags": []
   },
   "outputs": [],
   "source": []
  }
 ],
 "metadata": {
  "kernelspec": {
   "display_name": "Python 3",
   "language": "python",
   "name": "python3"
  },
  "language_info": {
   "codemirror_mode": {
    "name": "ipython",
    "version": 3
   },
   "file_extension": ".py",
   "mimetype": "text/x-python",
   "name": "python",
   "nbconvert_exporter": "python",
   "pygments_lexer": "ipython3",
   "version": "3.7.12"
  },
  "papermill": {
   "default_parameters": {},
   "duration": 17.644674,
   "end_time": "2022-01-03T14:20:06.504292",
   "environment_variables": {},
   "exception": null,
   "input_path": "__notebook__.ipynb",
   "output_path": "__notebook__.ipynb",
   "parameters": {},
   "start_time": "2022-01-03T14:19:48.859618",
   "version": "2.3.3"
  }
 },
 "nbformat": 4,
 "nbformat_minor": 5
}
