{
 "cells": [
  {
   "cell_type": "code",
   "execution_count": 1,
   "id": "91d363dd",
   "metadata": {
    "execution": {
     "iopub.execute_input": "2022-01-05T02:51:44.910134Z",
     "iopub.status.busy": "2022-01-05T02:51:44.909527Z",
     "iopub.status.idle": "2022-01-05T02:51:45.953216Z",
     "shell.execute_reply": "2022-01-05T02:51:45.952366Z",
     "shell.execute_reply.started": "2022-01-05T02:40:20.526154Z"
    },
    "papermill": {
     "duration": 1.08103,
     "end_time": "2022-01-05T02:51:45.953450",
     "exception": false,
     "start_time": "2022-01-05T02:51:44.872420",
     "status": "completed"
    },
    "tags": []
   },
   "outputs": [],
   "source": [
    "import pandas as pd\n",
    "import numpy as np\n",
    "import matplotlib.pyplot as plt\n",
    "import seaborn as sns\n",
    "import missingno as msno"
   ]
  },
  {
   "cell_type": "code",
   "execution_count": 2,
   "id": "893d0322",
   "metadata": {
    "execution": {
     "iopub.execute_input": "2022-01-05T02:51:46.010238Z",
     "iopub.status.busy": "2022-01-05T02:51:46.009581Z",
     "iopub.status.idle": "2022-01-05T02:51:46.018036Z",
     "shell.execute_reply": "2022-01-05T02:51:46.017394Z",
     "shell.execute_reply.started": "2022-01-05T02:40:20.533729Z"
    },
    "papermill": {
     "duration": 0.039083,
     "end_time": "2022-01-05T02:51:46.018191",
     "exception": false,
     "start_time": "2022-01-05T02:51:45.979108",
     "status": "completed"
    },
    "tags": []
   },
   "outputs": [
    {
     "name": "stdout",
     "output_type": "stream",
     "text": [
      "/kaggle/input/titanic/train.csv\n",
      "/kaggle/input/titanic/test.csv\n",
      "/kaggle/input/titanic/gender_submission.csv\n"
     ]
    }
   ],
   "source": [
    "# Input data files are available in the read-only \"../input/\" directory\n",
    "# For example, running this (by clicking run or pressing Shift+Enter) will list all files under the input directory\n",
    "\n",
    "import os\n",
    "for dirname, _, filenames in os.walk('/kaggle/input'):\n",
    "    for filename in filenames:\n",
    "        print(os.path.join(dirname, filename))\n",
    "\n",
    "# You can write up to 20GB to the current directory (/kaggle/working/) that gets preserved as output when you create a version using \"Save & Run All\" \n",
    "# You can also write temporary files to /kaggle/temp/, but they won't be saved outside of the current session"
   ]
  },
  {
   "cell_type": "code",
   "execution_count": 3,
   "id": "4706cf8a",
   "metadata": {
    "execution": {
     "iopub.execute_input": "2022-01-05T02:51:46.076094Z",
     "iopub.status.busy": "2022-01-05T02:51:46.075410Z",
     "iopub.status.idle": "2022-01-05T02:51:46.128402Z",
     "shell.execute_reply": "2022-01-05T02:51:46.128916Z",
     "shell.execute_reply.started": "2022-01-05T02:40:20.551537Z"
    },
    "papermill": {
     "duration": 0.085227,
     "end_time": "2022-01-05T02:51:46.129112",
     "exception": false,
     "start_time": "2022-01-05T02:51:46.043885",
     "status": "completed"
    },
    "tags": []
   },
   "outputs": [
    {
     "data": {
      "text/html": [
       "<div>\n",
       "<style scoped>\n",
       "    .dataframe tbody tr th:only-of-type {\n",
       "        vertical-align: middle;\n",
       "    }\n",
       "\n",
       "    .dataframe tbody tr th {\n",
       "        vertical-align: top;\n",
       "    }\n",
       "\n",
       "    .dataframe thead th {\n",
       "        text-align: right;\n",
       "    }\n",
       "</style>\n",
       "<table border=\"1\" class=\"dataframe\">\n",
       "  <thead>\n",
       "    <tr style=\"text-align: right;\">\n",
       "      <th></th>\n",
       "      <th>PassengerId</th>\n",
       "      <th>Survived</th>\n",
       "      <th>Pclass</th>\n",
       "      <th>Name</th>\n",
       "      <th>Sex</th>\n",
       "      <th>Age</th>\n",
       "      <th>SibSp</th>\n",
       "      <th>Parch</th>\n",
       "      <th>Ticket</th>\n",
       "      <th>Fare</th>\n",
       "      <th>Cabin</th>\n",
       "      <th>Embarked</th>\n",
       "    </tr>\n",
       "  </thead>\n",
       "  <tbody>\n",
       "    <tr>\n",
       "      <th>0</th>\n",
       "      <td>1</td>\n",
       "      <td>0</td>\n",
       "      <td>3</td>\n",
       "      <td>Braund, Mr. Owen Harris</td>\n",
       "      <td>male</td>\n",
       "      <td>22.0</td>\n",
       "      <td>1</td>\n",
       "      <td>0</td>\n",
       "      <td>A/5 21171</td>\n",
       "      <td>7.2500</td>\n",
       "      <td>NaN</td>\n",
       "      <td>S</td>\n",
       "    </tr>\n",
       "    <tr>\n",
       "      <th>1</th>\n",
       "      <td>2</td>\n",
       "      <td>1</td>\n",
       "      <td>1</td>\n",
       "      <td>Cumings, Mrs. John Bradley (Florence Briggs Th...</td>\n",
       "      <td>female</td>\n",
       "      <td>38.0</td>\n",
       "      <td>1</td>\n",
       "      <td>0</td>\n",
       "      <td>PC 17599</td>\n",
       "      <td>71.2833</td>\n",
       "      <td>C85</td>\n",
       "      <td>C</td>\n",
       "    </tr>\n",
       "    <tr>\n",
       "      <th>2</th>\n",
       "      <td>3</td>\n",
       "      <td>1</td>\n",
       "      <td>3</td>\n",
       "      <td>Heikkinen, Miss. Laina</td>\n",
       "      <td>female</td>\n",
       "      <td>26.0</td>\n",
       "      <td>0</td>\n",
       "      <td>0</td>\n",
       "      <td>STON/O2. 3101282</td>\n",
       "      <td>7.9250</td>\n",
       "      <td>NaN</td>\n",
       "      <td>S</td>\n",
       "    </tr>\n",
       "    <tr>\n",
       "      <th>3</th>\n",
       "      <td>4</td>\n",
       "      <td>1</td>\n",
       "      <td>1</td>\n",
       "      <td>Futrelle, Mrs. Jacques Heath (Lily May Peel)</td>\n",
       "      <td>female</td>\n",
       "      <td>35.0</td>\n",
       "      <td>1</td>\n",
       "      <td>0</td>\n",
       "      <td>113803</td>\n",
       "      <td>53.1000</td>\n",
       "      <td>C123</td>\n",
       "      <td>S</td>\n",
       "    </tr>\n",
       "    <tr>\n",
       "      <th>4</th>\n",
       "      <td>5</td>\n",
       "      <td>0</td>\n",
       "      <td>3</td>\n",
       "      <td>Allen, Mr. William Henry</td>\n",
       "      <td>male</td>\n",
       "      <td>35.0</td>\n",
       "      <td>0</td>\n",
       "      <td>0</td>\n",
       "      <td>373450</td>\n",
       "      <td>8.0500</td>\n",
       "      <td>NaN</td>\n",
       "      <td>S</td>\n",
       "    </tr>\n",
       "    <tr>\n",
       "      <th>5</th>\n",
       "      <td>6</td>\n",
       "      <td>0</td>\n",
       "      <td>3</td>\n",
       "      <td>Moran, Mr. James</td>\n",
       "      <td>male</td>\n",
       "      <td>NaN</td>\n",
       "      <td>0</td>\n",
       "      <td>0</td>\n",
       "      <td>330877</td>\n",
       "      <td>8.4583</td>\n",
       "      <td>NaN</td>\n",
       "      <td>Q</td>\n",
       "    </tr>\n",
       "    <tr>\n",
       "      <th>6</th>\n",
       "      <td>7</td>\n",
       "      <td>0</td>\n",
       "      <td>1</td>\n",
       "      <td>McCarthy, Mr. Timothy J</td>\n",
       "      <td>male</td>\n",
       "      <td>54.0</td>\n",
       "      <td>0</td>\n",
       "      <td>0</td>\n",
       "      <td>17463</td>\n",
       "      <td>51.8625</td>\n",
       "      <td>E46</td>\n",
       "      <td>S</td>\n",
       "    </tr>\n",
       "    <tr>\n",
       "      <th>7</th>\n",
       "      <td>8</td>\n",
       "      <td>0</td>\n",
       "      <td>3</td>\n",
       "      <td>Palsson, Master. Gosta Leonard</td>\n",
       "      <td>male</td>\n",
       "      <td>2.0</td>\n",
       "      <td>3</td>\n",
       "      <td>1</td>\n",
       "      <td>349909</td>\n",
       "      <td>21.0750</td>\n",
       "      <td>NaN</td>\n",
       "      <td>S</td>\n",
       "    </tr>\n",
       "    <tr>\n",
       "      <th>8</th>\n",
       "      <td>9</td>\n",
       "      <td>1</td>\n",
       "      <td>3</td>\n",
       "      <td>Johnson, Mrs. Oscar W (Elisabeth Vilhelmina Berg)</td>\n",
       "      <td>female</td>\n",
       "      <td>27.0</td>\n",
       "      <td>0</td>\n",
       "      <td>2</td>\n",
       "      <td>347742</td>\n",
       "      <td>11.1333</td>\n",
       "      <td>NaN</td>\n",
       "      <td>S</td>\n",
       "    </tr>\n",
       "    <tr>\n",
       "      <th>9</th>\n",
       "      <td>10</td>\n",
       "      <td>1</td>\n",
       "      <td>2</td>\n",
       "      <td>Nasser, Mrs. Nicholas (Adele Achem)</td>\n",
       "      <td>female</td>\n",
       "      <td>14.0</td>\n",
       "      <td>1</td>\n",
       "      <td>0</td>\n",
       "      <td>237736</td>\n",
       "      <td>30.0708</td>\n",
       "      <td>NaN</td>\n",
       "      <td>C</td>\n",
       "    </tr>\n",
       "  </tbody>\n",
       "</table>\n",
       "</div>"
      ],
      "text/plain": [
       "   PassengerId  Survived  Pclass  \\\n",
       "0            1         0       3   \n",
       "1            2         1       1   \n",
       "2            3         1       3   \n",
       "3            4         1       1   \n",
       "4            5         0       3   \n",
       "5            6         0       3   \n",
       "6            7         0       1   \n",
       "7            8         0       3   \n",
       "8            9         1       3   \n",
       "9           10         1       2   \n",
       "\n",
       "                                                Name     Sex   Age  SibSp  \\\n",
       "0                            Braund, Mr. Owen Harris    male  22.0      1   \n",
       "1  Cumings, Mrs. John Bradley (Florence Briggs Th...  female  38.0      1   \n",
       "2                             Heikkinen, Miss. Laina  female  26.0      0   \n",
       "3       Futrelle, Mrs. Jacques Heath (Lily May Peel)  female  35.0      1   \n",
       "4                           Allen, Mr. William Henry    male  35.0      0   \n",
       "5                                   Moran, Mr. James    male   NaN      0   \n",
       "6                            McCarthy, Mr. Timothy J    male  54.0      0   \n",
       "7                     Palsson, Master. Gosta Leonard    male   2.0      3   \n",
       "8  Johnson, Mrs. Oscar W (Elisabeth Vilhelmina Berg)  female  27.0      0   \n",
       "9                Nasser, Mrs. Nicholas (Adele Achem)  female  14.0      1   \n",
       "\n",
       "   Parch            Ticket     Fare Cabin Embarked  \n",
       "0      0         A/5 21171   7.2500   NaN        S  \n",
       "1      0          PC 17599  71.2833   C85        C  \n",
       "2      0  STON/O2. 3101282   7.9250   NaN        S  \n",
       "3      0            113803  53.1000  C123        S  \n",
       "4      0            373450   8.0500   NaN        S  \n",
       "5      0            330877   8.4583   NaN        Q  \n",
       "6      0             17463  51.8625   E46        S  \n",
       "7      1            349909  21.0750   NaN        S  \n",
       "8      2            347742  11.1333   NaN        S  \n",
       "9      0            237736  30.0708   NaN        C  "
      ]
     },
     "execution_count": 3,
     "metadata": {},
     "output_type": "execute_result"
    }
   ],
   "source": [
    "train_df = pd.read_csv('/kaggle/input/titanic/train.csv')\n",
    "test_df = pd.read_csv('/kaggle/input/titanic/test.csv')\n",
    "\n",
    "train_df.head(10)"
   ]
  },
  {
   "cell_type": "code",
   "execution_count": 4,
   "id": "19b25ade",
   "metadata": {
    "execution": {
     "iopub.execute_input": "2022-01-05T02:51:46.188760Z",
     "iopub.status.busy": "2022-01-05T02:51:46.188084Z",
     "iopub.status.idle": "2022-01-05T02:51:46.207826Z",
     "shell.execute_reply": "2022-01-05T02:51:46.208319Z",
     "shell.execute_reply.started": "2022-01-05T02:40:20.587657Z"
    },
    "papermill": {
     "duration": 0.053042,
     "end_time": "2022-01-05T02:51:46.208541",
     "exception": false,
     "start_time": "2022-01-05T02:51:46.155499",
     "status": "completed"
    },
    "tags": []
   },
   "outputs": [
    {
     "name": "stdout",
     "output_type": "stream",
     "text": [
      "<class 'pandas.core.frame.DataFrame'>\n",
      "RangeIndex: 891 entries, 0 to 890\n",
      "Data columns (total 12 columns):\n",
      " #   Column       Non-Null Count  Dtype  \n",
      "---  ------       --------------  -----  \n",
      " 0   PassengerId  891 non-null    int64  \n",
      " 1   Survived     891 non-null    int64  \n",
      " 2   Pclass       891 non-null    int64  \n",
      " 3   Name         891 non-null    object \n",
      " 4   Sex          891 non-null    object \n",
      " 5   Age          714 non-null    float64\n",
      " 6   SibSp        891 non-null    int64  \n",
      " 7   Parch        891 non-null    int64  \n",
      " 8   Ticket       891 non-null    object \n",
      " 9   Fare         891 non-null    float64\n",
      " 10  Cabin        204 non-null    object \n",
      " 11  Embarked     889 non-null    object \n",
      "dtypes: float64(2), int64(5), object(5)\n",
      "memory usage: 83.7+ KB\n"
     ]
    }
   ],
   "source": [
    "train_df.info()"
   ]
  },
  {
   "cell_type": "code",
   "execution_count": 5,
   "id": "9c9cf570",
   "metadata": {
    "execution": {
     "iopub.execute_input": "2022-01-05T02:51:46.265676Z",
     "iopub.status.busy": "2022-01-05T02:51:46.265016Z",
     "iopub.status.idle": "2022-01-05T02:51:46.272466Z",
     "shell.execute_reply": "2022-01-05T02:51:46.273157Z",
     "shell.execute_reply.started": "2022-01-05T02:40:20.603877Z"
    },
    "papermill": {
     "duration": 0.037659,
     "end_time": "2022-01-05T02:51:46.273380",
     "exception": false,
     "start_time": "2022-01-05T02:51:46.235721",
     "status": "completed"
    },
    "tags": []
   },
   "outputs": [
    {
     "data": {
      "text/plain": [
       "347082      7\n",
       "CA. 2343    7\n",
       "1601        7\n",
       "3101295     6\n",
       "CA 2144     6\n",
       "           ..\n",
       "9234        1\n",
       "19988       1\n",
       "2693        1\n",
       "PC 17612    1\n",
       "370376      1\n",
       "Name: Ticket, Length: 681, dtype: int64"
      ]
     },
     "execution_count": 5,
     "metadata": {},
     "output_type": "execute_result"
    }
   ],
   "source": [
    "train_df[\"Ticket\"].value_counts()"
   ]
  },
  {
   "cell_type": "code",
   "execution_count": 6,
   "id": "f36c78e7",
   "metadata": {
    "execution": {
     "iopub.execute_input": "2022-01-05T02:51:46.330489Z",
     "iopub.status.busy": "2022-01-05T02:51:46.329854Z",
     "iopub.status.idle": "2022-01-05T02:51:46.337382Z",
     "shell.execute_reply": "2022-01-05T02:51:46.337885Z",
     "shell.execute_reply.started": "2022-01-05T02:40:20.619751Z"
    },
    "papermill": {
     "duration": 0.037797,
     "end_time": "2022-01-05T02:51:46.338083",
     "exception": false,
     "start_time": "2022-01-05T02:51:46.300286",
     "status": "completed"
    },
    "tags": []
   },
   "outputs": [
    {
     "data": {
      "text/plain": [
       "B96 B98        4\n",
       "G6             4\n",
       "C23 C25 C27    4\n",
       "C22 C26        3\n",
       "F33            3\n",
       "              ..\n",
       "E34            1\n",
       "C7             1\n",
       "C54            1\n",
       "E36            1\n",
       "C148           1\n",
       "Name: Cabin, Length: 147, dtype: int64"
      ]
     },
     "execution_count": 6,
     "metadata": {},
     "output_type": "execute_result"
    }
   ],
   "source": [
    "train_df[\"Cabin\"].value_counts()"
   ]
  },
  {
   "cell_type": "code",
   "execution_count": 7,
   "id": "9c368014",
   "metadata": {
    "execution": {
     "iopub.execute_input": "2022-01-05T02:51:46.404252Z",
     "iopub.status.busy": "2022-01-05T02:51:46.403568Z",
     "iopub.status.idle": "2022-01-05T02:51:46.406092Z",
     "shell.execute_reply": "2022-01-05T02:51:46.406770Z",
     "shell.execute_reply.started": "2022-01-05T02:40:20.631896Z"
    },
    "papermill": {
     "duration": 0.041124,
     "end_time": "2022-01-05T02:51:46.406984",
     "exception": false,
     "start_time": "2022-01-05T02:51:46.365860",
     "status": "completed"
    },
    "tags": []
   },
   "outputs": [
    {
     "data": {
      "text/plain": [
       "8.0500     43\n",
       "13.0000    42\n",
       "7.8958     38\n",
       "7.7500     34\n",
       "26.0000    31\n",
       "           ..\n",
       "35.0000     1\n",
       "28.5000     1\n",
       "6.2375      1\n",
       "14.0000     1\n",
       "10.5167     1\n",
       "Name: Fare, Length: 248, dtype: int64"
      ]
     },
     "execution_count": 7,
     "metadata": {},
     "output_type": "execute_result"
    }
   ],
   "source": [
    "train_df[\"Fare\"].value_counts()"
   ]
  },
  {
   "cell_type": "markdown",
   "id": "ec46ade2",
   "metadata": {
    "papermill": {
     "duration": 0.027371,
     "end_time": "2022-01-05T02:51:46.462030",
     "exception": false,
     "start_time": "2022-01-05T02:51:46.434659",
     "status": "completed"
    },
    "tags": []
   },
   "source": [
    "# Exploratory Data Analysis\n",
    "\n",
    "Investigating the height distribution versus those who survived/did not survive"
   ]
  },
  {
   "cell_type": "code",
   "execution_count": 8,
   "id": "e7dab62f",
   "metadata": {
    "execution": {
     "iopub.execute_input": "2022-01-05T02:51:46.527482Z",
     "iopub.status.busy": "2022-01-05T02:51:46.525891Z",
     "iopub.status.idle": "2022-01-05T02:51:46.940747Z",
     "shell.execute_reply": "2022-01-05T02:51:46.941266Z",
     "shell.execute_reply.started": "2022-01-05T02:40:20.647318Z"
    },
    "papermill": {
     "duration": 0.451967,
     "end_time": "2022-01-05T02:51:46.941507",
     "exception": false,
     "start_time": "2022-01-05T02:51:46.489540",
     "status": "completed"
    },
    "tags": []
   },
   "outputs": [
    {
     "data": {
      "text/plain": [
       "<AxesSubplot:xlabel='Age', ylabel='Count'>"
      ]
     },
     "execution_count": 8,
     "metadata": {},
     "output_type": "execute_result"
    },
    {
     "data": {
      "image/png": "[encoded data removed]",
      "text/plain": [
       "<Figure size 432x288 with 1 Axes>"
      ]
     },
     "metadata": {
      "needs_background": "light"
     },
     "output_type": "display_data"
    }
   ],
   "source": [
    "sns.histplot(data=train_df, x=\"Age\", hue=\"Survived\", multiple=\"stack\")"
   ]
  },
  {
   "cell_type": "markdown",
   "id": "9f32c7bb",
   "metadata": {
    "papermill": {
     "duration": 0.028218,
     "end_time": "2022-01-05T02:51:47.000448",
     "exception": false,
     "start_time": "2022-01-05T02:51:46.972230",
     "status": "completed"
    },
    "tags": []
   },
   "source": [
    "**Observation**\n",
    "It seems there was an almost 50% survival rate per age bin"
   ]
  },
  {
   "cell_type": "code",
   "execution_count": 9,
   "id": "3215fcf1",
   "metadata": {
    "execution": {
     "iopub.execute_input": "2022-01-05T02:51:47.061810Z",
     "iopub.status.busy": "2022-01-05T02:51:47.060789Z",
     "iopub.status.idle": "2022-01-05T02:51:47.252356Z",
     "shell.execute_reply": "2022-01-05T02:51:47.252895Z",
     "shell.execute_reply.started": "2022-01-05T02:40:21.036550Z"
    },
    "papermill": {
     "duration": 0.224165,
     "end_time": "2022-01-05T02:51:47.253092",
     "exception": false,
     "start_time": "2022-01-05T02:51:47.028927",
     "status": "completed"
    },
    "tags": []
   },
   "outputs": [
    {
     "data": {
      "text/plain": [
       "<AxesSubplot:xlabel='Sex', ylabel='Count'>"
      ]
     },
     "execution_count": 9,
     "metadata": {},
     "output_type": "execute_result"
    },
    {
     "data": {
      "image/png": "[encoded data removed]",
      "text/plain": [
       "<Figure size 432x288 with 1 Axes>"
      ]
     },
     "metadata": {
      "needs_background": "light"
     },
     "output_type": "display_data"
    }
   ],
   "source": [
    "sns.histplot(data=train_df, x=\"Sex\", hue=\"Survived\", multiple=\"dodge\", shrink=.8)"
   ]
  },
  {
   "cell_type": "markdown",
   "id": "eaf740fc",
   "metadata": {
    "papermill": {
     "duration": 0.029296,
     "end_time": "2022-01-05T02:51:47.311862",
     "exception": false,
     "start_time": "2022-01-05T02:51:47.282566",
     "status": "completed"
    },
    "tags": []
   },
   "source": [
    "It seems like more male passengers died than females. Also the number of males on board the ship was higher than that of females"
   ]
  },
  {
   "cell_type": "code",
   "execution_count": 10,
   "id": "8ea8947d",
   "metadata": {
    "execution": {
     "iopub.execute_input": "2022-01-05T02:51:47.375014Z",
     "iopub.status.busy": "2022-01-05T02:51:47.374038Z",
     "iopub.status.idle": "2022-01-05T02:51:47.538583Z",
     "shell.execute_reply": "2022-01-05T02:51:47.539175Z",
     "shell.execute_reply.started": "2022-01-05T02:40:21.269942Z"
    },
    "papermill": {
     "duration": 0.198096,
     "end_time": "2022-01-05T02:51:47.539406",
     "exception": false,
     "start_time": "2022-01-05T02:51:47.341310",
     "status": "completed"
    },
    "tags": []
   },
   "outputs": [
    {
     "data": {
      "image/png": "[encoded data removed]",
      "text/plain": [
       "<Figure size 432x288 with 1 Axes>"
      ]
     },
     "metadata": {
      "needs_background": "light"
     },
     "output_type": "display_data"
    }
   ],
   "source": [
    "#Boxplotting Age\n",
    "ax = sns.boxplot(x=\"Sex\", y=\"Age\", data = train_df)"
   ]
  },
  {
   "cell_type": "markdown",
   "id": "5393f8de",
   "metadata": {
    "papermill": {
     "duration": 0.030769,
     "end_time": "2022-01-05T02:51:47.600629",
     "exception": false,
     "start_time": "2022-01-05T02:51:47.569860",
     "status": "completed"
    },
    "tags": []
   },
   "source": [
    "It seems there are some outliers in the Male Ages, so we will use median to fill in missing values"
   ]
  },
  {
   "cell_type": "code",
   "execution_count": 11,
   "id": "765cc975",
   "metadata": {
    "execution": {
     "iopub.execute_input": "2022-01-05T02:51:47.666029Z",
     "iopub.status.busy": "2022-01-05T02:51:47.665274Z",
     "iopub.status.idle": "2022-01-05T02:51:47.667779Z",
     "shell.execute_reply": "2022-01-05T02:51:47.668379Z",
     "shell.execute_reply.started": "2022-01-05T02:40:21.476225Z"
    },
    "papermill": {
     "duration": 0.037871,
     "end_time": "2022-01-05T02:51:47.668550",
     "exception": false,
     "start_time": "2022-01-05T02:51:47.630679",
     "status": "completed"
    },
    "tags": []
   },
   "outputs": [],
   "source": [
    "#Copies of train_df and test_df\n",
    "train_tr = train_df.copy()\n",
    "test_tr = test_df.copy()"
   ]
  },
  {
   "cell_type": "code",
   "execution_count": 12,
   "id": "ab4eb917",
   "metadata": {
    "execution": {
     "iopub.execute_input": "2022-01-05T02:51:47.731852Z",
     "iopub.status.busy": "2022-01-05T02:51:47.730905Z",
     "iopub.status.idle": "2022-01-05T02:51:47.742026Z",
     "shell.execute_reply": "2022-01-05T02:51:47.742651Z",
     "shell.execute_reply.started": "2022-01-05T02:40:21.488083Z"
    },
    "papermill": {
     "duration": 0.044749,
     "end_time": "2022-01-05T02:51:47.742822",
     "exception": false,
     "start_time": "2022-01-05T02:51:47.698073",
     "status": "completed"
    },
    "tags": []
   },
   "outputs": [
    {
     "data": {
      "text/plain": [
       "PassengerId      0\n",
       "Survived         0\n",
       "Pclass           0\n",
       "Name             0\n",
       "Sex              0\n",
       "Age              0\n",
       "SibSp            0\n",
       "Parch            0\n",
       "Ticket           0\n",
       "Fare             0\n",
       "Cabin          687\n",
       "Embarked         2\n",
       "dtype: int64"
      ]
     },
     "execution_count": 12,
     "metadata": {},
     "output_type": "execute_result"
    }
   ],
   "source": [
    "train_tr['Age'].fillna(train_tr['Age'].median(), inplace=True)\n",
    "test_tr['Age'].fillna(test_tr['Age'].median(), inplace=True)\n",
    "\n",
    "train_tr.isnull().sum()\n"
   ]
  },
  {
   "cell_type": "code",
   "execution_count": 13,
   "id": "0e1fb9c3",
   "metadata": {
    "execution": {
     "iopub.execute_input": "2022-01-05T02:51:47.806680Z",
     "iopub.status.busy": "2022-01-05T02:51:47.805766Z",
     "iopub.status.idle": "2022-01-05T02:51:48.274383Z",
     "shell.execute_reply": "2022-01-05T02:51:48.274889Z",
     "shell.execute_reply.started": "2022-01-05T02:40:21.507108Z"
    },
    "papermill": {
     "duration": 0.502238,
     "end_time": "2022-01-05T02:51:48.275058",
     "exception": false,
     "start_time": "2022-01-05T02:51:47.772820",
     "status": "completed"
    },
    "tags": []
   },
   "outputs": [
    {
     "data": {
      "text/plain": [
       "<AxesSubplot:>"
      ]
     },
     "execution_count": 13,
     "metadata": {},
     "output_type": "execute_result"
    },
    {
     "data": {
      "image/png": "[encoded data removed]",
      "text/plain": [
       "<Figure size 1800x720 with 2 Axes>"
      ]
     },
     "metadata": {
      "needs_background": "light"
     },
     "output_type": "display_data"
    }
   ],
   "source": [
    "#Lets have a look at the missing values matrix\n",
    "msno.matrix(train_tr)"
   ]
  },
  {
   "cell_type": "markdown",
   "id": "00c9f370",
   "metadata": {
    "papermill": {
     "duration": 0.031853,
     "end_time": "2022-01-05T02:51:48.339106",
     "exception": false,
     "start_time": "2022-01-05T02:51:48.307253",
     "status": "completed"
    },
    "tags": []
   },
   "source": []
  },
  {
   "cell_type": "markdown",
   "id": "6e9a452b",
   "metadata": {
    "papermill": {
     "duration": 0.031663,
     "end_time": "2022-01-05T02:51:48.403614",
     "exception": false,
     "start_time": "2022-01-05T02:51:48.371951",
     "status": "completed"
    },
    "tags": []
   },
   "source": [
    "Embarked column has 2 missing values, but Cabin has a lot of missing values."
   ]
  },
  {
   "cell_type": "code",
   "execution_count": 14,
   "id": "fa2b7fe0",
   "metadata": {
    "execution": {
     "iopub.execute_input": "2022-01-05T02:51:48.472699Z",
     "iopub.status.busy": "2022-01-05T02:51:48.471745Z",
     "iopub.status.idle": "2022-01-05T02:51:48.682303Z",
     "shell.execute_reply": "2022-01-05T02:51:48.681684Z",
     "shell.execute_reply.started": "2022-01-05T02:40:22.112119Z"
    },
    "papermill": {
     "duration": 0.245881,
     "end_time": "2022-01-05T02:51:48.682460",
     "exception": false,
     "start_time": "2022-01-05T02:51:48.436579",
     "status": "completed"
    },
    "tags": []
   },
   "outputs": [
    {
     "data": {
      "text/plain": [
       "<AxesSubplot:xlabel='Embarked', ylabel='Count'>"
      ]
     },
     "execution_count": 14,
     "metadata": {},
     "output_type": "execute_result"
    },
    {
     "data": {
      "image/png": "[encoded data removed]",
      "text/plain": [
       "<Figure size 432x288 with 1 Axes>"
      ]
     },
     "metadata": {
      "needs_background": "light"
     },
     "output_type": "display_data"
    }
   ],
   "source": [
    "sns.histplot(data=train_tr, x=\"Embarked\", hue=\"Survived\", multiple=\"dodge\", shrink=.8)"
   ]
  },
  {
   "cell_type": "markdown",
   "id": "a62d8060",
   "metadata": {
    "papermill": {
     "duration": 0.033298,
     "end_time": "2022-01-05T02:51:48.748616",
     "exception": false,
     "start_time": "2022-01-05T02:51:48.715318",
     "status": "completed"
    },
    "tags": []
   },
   "source": [
    "Further EDA to see relationships between the features, and also to the targetted label."
   ]
  },
  {
   "cell_type": "code",
   "execution_count": 15,
   "id": "97cd53dc",
   "metadata": {
    "execution": {
     "iopub.execute_input": "2022-01-05T02:51:48.824616Z",
     "iopub.status.busy": "2022-01-05T02:51:48.823410Z",
     "iopub.status.idle": "2022-01-05T02:51:49.014256Z",
     "shell.execute_reply": "2022-01-05T02:51:49.013517Z",
     "shell.execute_reply.started": "2022-01-05T02:40:22.376553Z"
    },
    "papermill": {
     "duration": 0.232497,
     "end_time": "2022-01-05T02:51:49.014427",
     "exception": false,
     "start_time": "2022-01-05T02:51:48.781930",
     "status": "completed"
    },
    "tags": []
   },
   "outputs": [
    {
     "data": {
      "text/plain": [
       "Text(0.5, 1.0, 'Age by Passenger Class, Titanic')"
      ]
     },
     "execution_count": 15,
     "metadata": {},
     "output_type": "execute_result"
    },
    {
     "data": {
      "image/png": "[encoded data removed]",
      "text/plain": [
       "<Figure size 576x360 with 1 Axes>"
      ]
     },
     "metadata": {
      "needs_background": "light"
     },
     "output_type": "display_data"
    }
   ],
   "source": [
    "#Relationship between age and passenger class\n",
    "plt.figure(figsize=(8,5))\n",
    "sns.boxplot(x='Pclass',y='Age',data=train_tr, palette='rainbow')\n",
    "plt.title(\"Age by Passenger Class, Titanic\")"
   ]
  },
  {
   "cell_type": "markdown",
   "id": "0211e70d",
   "metadata": {
    "papermill": {
     "duration": 0.035759,
     "end_time": "2022-01-05T02:51:49.084905",
     "exception": false,
     "start_time": "2022-01-05T02:51:49.049146",
     "status": "completed"
    },
    "tags": []
   },
   "source": [
    "Generally, Passenger Classes differ by age group"
   ]
  },
  {
   "cell_type": "code",
   "execution_count": 16,
   "id": "54c6e0e3",
   "metadata": {
    "execution": {
     "iopub.execute_input": "2022-01-05T02:51:49.165579Z",
     "iopub.status.busy": "2022-01-05T02:51:49.164453Z",
     "iopub.status.idle": "2022-01-05T02:51:49.573323Z",
     "shell.execute_reply": "2022-01-05T02:51:49.572713Z",
     "shell.execute_reply.started": "2022-01-05T02:40:22.616989Z"
    },
    "papermill": {
     "duration": 0.453198,
     "end_time": "2022-01-05T02:51:49.573507",
     "exception": false,
     "start_time": "2022-01-05T02:51:49.120309",
     "status": "completed"
    },
    "tags": []
   },
   "outputs": [
    {
     "data": {
      "text/plain": [
       "<seaborn.axisgrid.FacetGrid at 0x7fb895f1de90>"
      ]
     },
     "execution_count": 16,
     "metadata": {},
     "output_type": "execute_result"
    },
    {
     "data": {
      "text/plain": [
       "<Figure size 576x864 with 0 Axes>"
      ]
     },
     "metadata": {},
     "output_type": "display_data"
    },
    {
     "data": {
      "image/png": "[encoded data removed]",
      "text/plain": [
       "<Figure size 421.55x360 with 1 Axes>"
      ]
     },
     "metadata": {},
     "output_type": "display_data"
    }
   ],
   "source": [
    "plt.figure(figsize=(8,12))\n",
    "sns.set_theme(style=\"ticks\")\n",
    "sns.catplot(data=train_tr, x=\"Pclass\", y=\"Fare\", hue=\"Survived\")"
   ]
  },
  {
   "cell_type": "markdown",
   "id": "d4ca77f2",
   "metadata": {
    "papermill": {
     "duration": 0.037516,
     "end_time": "2022-01-05T02:51:49.647994",
     "exception": false,
     "start_time": "2022-01-05T02:51:49.610478",
     "status": "completed"
    },
    "tags": []
   },
   "source": [
    "Those who paid higher fares were placed in Pclass 1, Pclass 2 and Pclass 3 seems to house those who paid lower fees. A higher proportion of those in Pclass 3 died as compared to the other classes."
   ]
  },
  {
   "cell_type": "code",
   "execution_count": 17,
   "id": "8d7b6dea",
   "metadata": {
    "execution": {
     "iopub.execute_input": "2022-01-05T02:51:49.729914Z",
     "iopub.status.busy": "2022-01-05T02:51:49.729225Z",
     "iopub.status.idle": "2022-01-05T02:51:49.732142Z",
     "shell.execute_reply": "2022-01-05T02:51:49.732700Z",
     "shell.execute_reply.started": "2022-01-05T02:40:23.089494Z"
    },
    "papermill": {
     "duration": 0.047264,
     "end_time": "2022-01-05T02:51:49.732894",
     "exception": false,
     "start_time": "2022-01-05T02:51:49.685630",
     "status": "completed"
    },
    "tags": []
   },
   "outputs": [
    {
     "data": {
      "text/plain": [
       "0    678\n",
       "1    118\n",
       "2     80\n",
       "5      5\n",
       "3      5\n",
       "4      4\n",
       "6      1\n",
       "Name: Parch, dtype: int64"
      ]
     },
     "execution_count": 17,
     "metadata": {},
     "output_type": "execute_result"
    }
   ],
   "source": [
    "train_tr[\"Parch\"].value_counts()"
   ]
  },
  {
   "cell_type": "code",
   "execution_count": 18,
   "id": "7f668903",
   "metadata": {
    "execution": {
     "iopub.execute_input": "2022-01-05T02:51:49.814878Z",
     "iopub.status.busy": "2022-01-05T02:51:49.814136Z",
     "iopub.status.idle": "2022-01-05T02:51:49.816915Z",
     "shell.execute_reply": "2022-01-05T02:51:49.817427Z",
     "shell.execute_reply.started": "2022-01-05T02:40:23.098576Z"
    },
    "papermill": {
     "duration": 0.047783,
     "end_time": "2022-01-05T02:51:49.817619",
     "exception": false,
     "start_time": "2022-01-05T02:51:49.769836",
     "status": "completed"
    },
    "tags": []
   },
   "outputs": [
    {
     "data": {
      "text/plain": [
       "0    608\n",
       "1    209\n",
       "2     28\n",
       "4     18\n",
       "3     16\n",
       "8      7\n",
       "5      5\n",
       "Name: SibSp, dtype: int64"
      ]
     },
     "execution_count": 18,
     "metadata": {},
     "output_type": "execute_result"
    }
   ],
   "source": [
    "train_tr[\"SibSp\"].value_counts()"
   ]
  },
  {
   "cell_type": "code",
   "execution_count": 19,
   "id": "17b5c20d",
   "metadata": {
    "execution": {
     "iopub.execute_input": "2022-01-05T02:51:49.899207Z",
     "iopub.status.busy": "2022-01-05T02:51:49.898212Z",
     "iopub.status.idle": "2022-01-05T02:51:50.120876Z",
     "shell.execute_reply": "2022-01-05T02:51:50.120272Z",
     "shell.execute_reply.started": "2022-01-05T02:40:23.113560Z"
    },
    "papermill": {
     "duration": 0.265596,
     "end_time": "2022-01-05T02:51:50.121035",
     "exception": false,
     "start_time": "2022-01-05T02:51:49.855439",
     "status": "completed"
    },
    "tags": []
   },
   "outputs": [
    {
     "data": {
      "text/plain": [
       "<AxesSubplot:xlabel='Parch', ylabel='count'>"
      ]
     },
     "execution_count": 19,
     "metadata": {},
     "output_type": "execute_result"
    },
    {
     "data": {
      "image/png": "[encoded data removed]",
      "text/plain": [
       "<Figure size 432x288 with 1 Axes>"
      ]
     },
     "metadata": {},
     "output_type": "display_data"
    }
   ],
   "source": [
    "sns.countplot(data=train_tr, x=\"Parch\", hue=\"Survived\")"
   ]
  },
  {
   "cell_type": "code",
   "execution_count": 20,
   "id": "b24a3197",
   "metadata": {
    "execution": {
     "iopub.execute_input": "2022-01-05T02:51:50.206999Z",
     "iopub.status.busy": "2022-01-05T02:51:50.206222Z",
     "iopub.status.idle": "2022-01-05T02:51:50.520866Z",
     "shell.execute_reply": "2022-01-05T02:51:50.520185Z",
     "shell.execute_reply.started": "2022-01-05T02:40:23.382391Z"
    },
    "papermill": {
     "duration": 0.361171,
     "end_time": "2022-01-05T02:51:50.521028",
     "exception": false,
     "start_time": "2022-01-05T02:51:50.159857",
     "status": "completed"
    },
    "tags": []
   },
   "outputs": [
    {
     "data": {
      "text/plain": [
       "<AxesSubplot:xlabel='SibSp', ylabel='Count'>"
      ]
     },
     "execution_count": 20,
     "metadata": {},
     "output_type": "execute_result"
    },
    {
     "data": {
      "image/png": "[encoded data removed]",
      "text/plain": [
       "<Figure size 432x288 with 1 Axes>"
      ]
     },
     "metadata": {},
     "output_type": "display_data"
    }
   ],
   "source": [
    "sns.histplot(data=train_tr, x=\"SibSp\", hue=\"Survived\", binwidth=.8)"
   ]
  },
  {
   "cell_type": "markdown",
   "id": "c1daf0f0",
   "metadata": {
    "papermill": {
     "duration": 0.038934,
     "end_time": "2022-01-05T02:51:50.600602",
     "exception": false,
     "start_time": "2022-01-05T02:51:50.561668",
     "status": "completed"
    },
    "tags": []
   },
   "source": [
    "# Dropping Features\n",
    "We are going to drop some features because of various reasons:\n",
    "\n",
    "* PassengerId - this is an id column with different values for each entry\n",
    "* Name - also has unique values per entry\n",
    "* Ticket - it has too many different values to be a feature, and might lead to our model overfitting\n",
    "* Cabin - too many missing values\n"
   ]
  },
  {
   "cell_type": "code",
   "execution_count": 21,
   "id": "eccb4adb",
   "metadata": {
    "execution": {
     "iopub.execute_input": "2022-01-05T02:51:50.684273Z",
     "iopub.status.busy": "2022-01-05T02:51:50.683486Z",
     "iopub.status.idle": "2022-01-05T02:51:50.690088Z",
     "shell.execute_reply": "2022-01-05T02:51:50.690638Z",
     "shell.execute_reply.started": "2022-01-05T02:40:23.712833Z"
    },
    "papermill": {
     "duration": 0.051092,
     "end_time": "2022-01-05T02:51:50.690816",
     "exception": false,
     "start_time": "2022-01-05T02:51:50.639724",
     "status": "completed"
    },
    "tags": []
   },
   "outputs": [],
   "source": [
    "train_tr.drop(['Cabin', 'PassengerId', 'Name', 'Ticket'], axis=1, inplace=True)\n",
    "test_tr.drop(['Cabin', 'PassengerId', 'Name', 'Ticket'], axis=1, inplace=True)\n"
   ]
  },
  {
   "cell_type": "code",
   "execution_count": 22,
   "id": "1690ba15",
   "metadata": {
    "execution": {
     "iopub.execute_input": "2022-01-05T02:51:50.772764Z",
     "iopub.status.busy": "2022-01-05T02:51:50.771978Z",
     "iopub.status.idle": "2022-01-05T02:51:50.784967Z",
     "shell.execute_reply": "2022-01-05T02:51:50.785594Z",
     "shell.execute_reply.started": "2022-01-05T02:40:23.721742Z"
    },
    "papermill": {
     "duration": 0.055785,
     "end_time": "2022-01-05T02:51:50.785774",
     "exception": false,
     "start_time": "2022-01-05T02:51:50.729989",
     "status": "completed"
    },
    "tags": []
   },
   "outputs": [
    {
     "data": {
      "text/html": [
       "<div>\n",
       "<style scoped>\n",
       "    .dataframe tbody tr th:only-of-type {\n",
       "        vertical-align: middle;\n",
       "    }\n",
       "\n",
       "    .dataframe tbody tr th {\n",
       "        vertical-align: top;\n",
       "    }\n",
       "\n",
       "    .dataframe thead th {\n",
       "        text-align: right;\n",
       "    }\n",
       "</style>\n",
       "<table border=\"1\" class=\"dataframe\">\n",
       "  <thead>\n",
       "    <tr style=\"text-align: right;\">\n",
       "      <th></th>\n",
       "      <th>Survived</th>\n",
       "      <th>Pclass</th>\n",
       "      <th>Sex</th>\n",
       "      <th>Age</th>\n",
       "      <th>SibSp</th>\n",
       "      <th>Parch</th>\n",
       "      <th>Fare</th>\n",
       "      <th>Embarked</th>\n",
       "    </tr>\n",
       "  </thead>\n",
       "  <tbody>\n",
       "    <tr>\n",
       "      <th>0</th>\n",
       "      <td>0</td>\n",
       "      <td>3</td>\n",
       "      <td>male</td>\n",
       "      <td>22.0</td>\n",
       "      <td>1</td>\n",
       "      <td>0</td>\n",
       "      <td>7.2500</td>\n",
       "      <td>S</td>\n",
       "    </tr>\n",
       "    <tr>\n",
       "      <th>1</th>\n",
       "      <td>1</td>\n",
       "      <td>1</td>\n",
       "      <td>female</td>\n",
       "      <td>38.0</td>\n",
       "      <td>1</td>\n",
       "      <td>0</td>\n",
       "      <td>71.2833</td>\n",
       "      <td>C</td>\n",
       "    </tr>\n",
       "    <tr>\n",
       "      <th>2</th>\n",
       "      <td>1</td>\n",
       "      <td>3</td>\n",
       "      <td>female</td>\n",
       "      <td>26.0</td>\n",
       "      <td>0</td>\n",
       "      <td>0</td>\n",
       "      <td>7.9250</td>\n",
       "      <td>S</td>\n",
       "    </tr>\n",
       "    <tr>\n",
       "      <th>3</th>\n",
       "      <td>1</td>\n",
       "      <td>1</td>\n",
       "      <td>female</td>\n",
       "      <td>35.0</td>\n",
       "      <td>1</td>\n",
       "      <td>0</td>\n",
       "      <td>53.1000</td>\n",
       "      <td>S</td>\n",
       "    </tr>\n",
       "    <tr>\n",
       "      <th>4</th>\n",
       "      <td>0</td>\n",
       "      <td>3</td>\n",
       "      <td>male</td>\n",
       "      <td>35.0</td>\n",
       "      <td>0</td>\n",
       "      <td>0</td>\n",
       "      <td>8.0500</td>\n",
       "      <td>S</td>\n",
       "    </tr>\n",
       "  </tbody>\n",
       "</table>\n",
       "</div>"
      ],
      "text/plain": [
       "   Survived  Pclass     Sex   Age  SibSp  Parch     Fare Embarked\n",
       "0         0       3    male  22.0      1      0   7.2500        S\n",
       "1         1       1  female  38.0      1      0  71.2833        C\n",
       "2         1       3  female  26.0      0      0   7.9250        S\n",
       "3         1       1  female  35.0      1      0  53.1000        S\n",
       "4         0       3    male  35.0      0      0   8.0500        S"
      ]
     },
     "execution_count": 22,
     "metadata": {},
     "output_type": "execute_result"
    }
   ],
   "source": [
    "train_tr.head()"
   ]
  },
  {
   "cell_type": "markdown",
   "id": "78cc056c",
   "metadata": {
    "papermill": {
     "duration": 0.03962,
     "end_time": "2022-01-05T02:51:50.864943",
     "exception": false,
     "start_time": "2022-01-05T02:51:50.825323",
     "status": "completed"
    },
    "tags": []
   },
   "source": [
    "# Feature Transformations\n",
    "\n",
    "We are going to transform the columns in two ways:\n",
    "\n",
    "1. Categorical Features (Sex, Embarked) - will need to be transformed into numerical values\n",
    "2. Numerical Features - need to be normalized"
   ]
  },
  {
   "cell_type": "code",
   "execution_count": 23,
   "id": "a732f27e",
   "metadata": {
    "execution": {
     "iopub.execute_input": "2022-01-05T02:51:50.948788Z",
     "iopub.status.busy": "2022-01-05T02:51:50.948039Z",
     "iopub.status.idle": "2022-01-05T02:51:50.964139Z",
     "shell.execute_reply": "2022-01-05T02:51:50.964654Z",
     "shell.execute_reply.started": "2022-01-05T02:42:34.316951Z"
    },
    "papermill": {
     "duration": 0.060326,
     "end_time": "2022-01-05T02:51:50.964841",
     "exception": false,
     "start_time": "2022-01-05T02:51:50.904515",
     "status": "completed"
    },
    "tags": []
   },
   "outputs": [
    {
     "data": {
      "text/html": [
       "<div>\n",
       "<style scoped>\n",
       "    .dataframe tbody tr th:only-of-type {\n",
       "        vertical-align: middle;\n",
       "    }\n",
       "\n",
       "    .dataframe tbody tr th {\n",
       "        vertical-align: top;\n",
       "    }\n",
       "\n",
       "    .dataframe thead th {\n",
       "        text-align: right;\n",
       "    }\n",
       "</style>\n",
       "<table border=\"1\" class=\"dataframe\">\n",
       "  <thead>\n",
       "    <tr style=\"text-align: right;\">\n",
       "      <th></th>\n",
       "      <th>Survived</th>\n",
       "      <th>Pclass</th>\n",
       "      <th>Sex</th>\n",
       "      <th>Age</th>\n",
       "      <th>SibSp</th>\n",
       "      <th>Parch</th>\n",
       "      <th>Fare</th>\n",
       "      <th>Embarked</th>\n",
       "    </tr>\n",
       "  </thead>\n",
       "  <tbody>\n",
       "    <tr>\n",
       "      <th>0</th>\n",
       "      <td>0</td>\n",
       "      <td>3</td>\n",
       "      <td>0</td>\n",
       "      <td>22.0</td>\n",
       "      <td>1</td>\n",
       "      <td>0</td>\n",
       "      <td>7.2500</td>\n",
       "      <td>S</td>\n",
       "    </tr>\n",
       "    <tr>\n",
       "      <th>1</th>\n",
       "      <td>1</td>\n",
       "      <td>1</td>\n",
       "      <td>1</td>\n",
       "      <td>38.0</td>\n",
       "      <td>1</td>\n",
       "      <td>0</td>\n",
       "      <td>71.2833</td>\n",
       "      <td>C</td>\n",
       "    </tr>\n",
       "    <tr>\n",
       "      <th>2</th>\n",
       "      <td>1</td>\n",
       "      <td>3</td>\n",
       "      <td>1</td>\n",
       "      <td>26.0</td>\n",
       "      <td>0</td>\n",
       "      <td>0</td>\n",
       "      <td>7.9250</td>\n",
       "      <td>S</td>\n",
       "    </tr>\n",
       "    <tr>\n",
       "      <th>3</th>\n",
       "      <td>1</td>\n",
       "      <td>1</td>\n",
       "      <td>1</td>\n",
       "      <td>35.0</td>\n",
       "      <td>1</td>\n",
       "      <td>0</td>\n",
       "      <td>53.1000</td>\n",
       "      <td>S</td>\n",
       "    </tr>\n",
       "    <tr>\n",
       "      <th>4</th>\n",
       "      <td>0</td>\n",
       "      <td>3</td>\n",
       "      <td>0</td>\n",
       "      <td>35.0</td>\n",
       "      <td>0</td>\n",
       "      <td>0</td>\n",
       "      <td>8.0500</td>\n",
       "      <td>S</td>\n",
       "    </tr>\n",
       "  </tbody>\n",
       "</table>\n",
       "</div>"
      ],
      "text/plain": [
       "   Survived  Pclass  Sex   Age  SibSp  Parch     Fare Embarked\n",
       "0         0       3    0  22.0      1      0   7.2500        S\n",
       "1         1       1    1  38.0      1      0  71.2833        C\n",
       "2         1       3    1  26.0      0      0   7.9250        S\n",
       "3         1       1    1  35.0      1      0  53.1000        S\n",
       "4         0       3    0  35.0      0      0   8.0500        S"
      ]
     },
     "execution_count": 23,
     "metadata": {},
     "output_type": "execute_result"
    }
   ],
   "source": [
    "train_tr['Sex']=train_tr['Sex'].replace('male', 0)\n",
    "train_tr['Sex']=train_tr['Sex'].replace('female', 1)\n",
    "train_tr.head()"
   ]
  },
  {
   "cell_type": "code",
   "execution_count": 24,
   "id": "2a05b668",
   "metadata": {
    "execution": {
     "iopub.execute_input": "2022-01-05T02:51:51.064085Z",
     "iopub.status.busy": "2022-01-05T02:51:51.063157Z",
     "iopub.status.idle": "2022-01-05T02:51:51.066601Z",
     "shell.execute_reply": "2022-01-05T02:51:51.067096Z",
     "shell.execute_reply.started": "2022-01-05T02:43:13.806421Z"
    },
    "papermill": {
     "duration": 0.060669,
     "end_time": "2022-01-05T02:51:51.067262",
     "exception": false,
     "start_time": "2022-01-05T02:51:51.006593",
     "status": "completed"
    },
    "tags": []
   },
   "outputs": [
    {
     "data": {
      "text/html": [
       "<div>\n",
       "<style scoped>\n",
       "    .dataframe tbody tr th:only-of-type {\n",
       "        vertical-align: middle;\n",
       "    }\n",
       "\n",
       "    .dataframe tbody tr th {\n",
       "        vertical-align: top;\n",
       "    }\n",
       "\n",
       "    .dataframe thead th {\n",
       "        text-align: right;\n",
       "    }\n",
       "</style>\n",
       "<table border=\"1\" class=\"dataframe\">\n",
       "  <thead>\n",
       "    <tr style=\"text-align: right;\">\n",
       "      <th></th>\n",
       "      <th>Pclass</th>\n",
       "      <th>Sex</th>\n",
       "      <th>Age</th>\n",
       "      <th>SibSp</th>\n",
       "      <th>Parch</th>\n",
       "      <th>Fare</th>\n",
       "      <th>Embarked</th>\n",
       "    </tr>\n",
       "  </thead>\n",
       "  <tbody>\n",
       "    <tr>\n",
       "      <th>0</th>\n",
       "      <td>3</td>\n",
       "      <td>0</td>\n",
       "      <td>34.5</td>\n",
       "      <td>0</td>\n",
       "      <td>0</td>\n",
       "      <td>7.8292</td>\n",
       "      <td>Q</td>\n",
       "    </tr>\n",
       "    <tr>\n",
       "      <th>1</th>\n",
       "      <td>3</td>\n",
       "      <td>1</td>\n",
       "      <td>47.0</td>\n",
       "      <td>1</td>\n",
       "      <td>0</td>\n",
       "      <td>7.0000</td>\n",
       "      <td>S</td>\n",
       "    </tr>\n",
       "    <tr>\n",
       "      <th>2</th>\n",
       "      <td>2</td>\n",
       "      <td>0</td>\n",
       "      <td>62.0</td>\n",
       "      <td>0</td>\n",
       "      <td>0</td>\n",
       "      <td>9.6875</td>\n",
       "      <td>Q</td>\n",
       "    </tr>\n",
       "    <tr>\n",
       "      <th>3</th>\n",
       "      <td>3</td>\n",
       "      <td>0</td>\n",
       "      <td>27.0</td>\n",
       "      <td>0</td>\n",
       "      <td>0</td>\n",
       "      <td>8.6625</td>\n",
       "      <td>S</td>\n",
       "    </tr>\n",
       "    <tr>\n",
       "      <th>4</th>\n",
       "      <td>3</td>\n",
       "      <td>1</td>\n",
       "      <td>22.0</td>\n",
       "      <td>1</td>\n",
       "      <td>1</td>\n",
       "      <td>12.2875</td>\n",
       "      <td>S</td>\n",
       "    </tr>\n",
       "  </tbody>\n",
       "</table>\n",
       "</div>"
      ],
      "text/plain": [
       "   Pclass  Sex   Age  SibSp  Parch     Fare Embarked\n",
       "0       3    0  34.5      0      0   7.8292        Q\n",
       "1       3    1  47.0      1      0   7.0000        S\n",
       "2       2    0  62.0      0      0   9.6875        Q\n",
       "3       3    0  27.0      0      0   8.6625        S\n",
       "4       3    1  22.0      1      1  12.2875        S"
      ]
     },
     "execution_count": 24,
     "metadata": {},
     "output_type": "execute_result"
    }
   ],
   "source": [
    "test_tr['Sex']=test_tr['Sex'].replace('male', 0)\n",
    "test_tr['Sex']=test_tr['Sex'].replace('female', 1)\n",
    "test_tr.head()"
   ]
  }
 ],
 "metadata": {
  "kernelspec": {
   "display_name": "Python 3",
   "language": "python",
   "name": "python3"
  },
  "language_info": {
   "codemirror_mode": {
    "name": "ipython",
    "version": 3
   },
   "file_extension": ".py",
   "mimetype": "text/x-python",
   "name": "python",
   "nbconvert_exporter": "python",
   "pygments_lexer": "ipython3",
   "version": "3.7.12"
  },
  "papermill": {
   "default_parameters": {},
   "duration": 18.061047,
   "end_time": "2022-01-05T02:51:51.934764",
   "environment_variables": {},
   "exception": null,
   "input_path": "__notebook__.ipynb",
   "output_path": "__notebook__.ipynb",
   "parameters": {},
   "start_time": "2022-01-05T02:51:33.873717",
   "version": "2.3.3"
  }
 },
 "nbformat": 4,
 "nbformat_minor": 5
}
