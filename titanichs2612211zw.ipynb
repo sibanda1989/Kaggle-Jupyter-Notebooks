{
 "cells": [
  {
   "cell_type": "code",
   "execution_count": 1,
   "id": "c9de5b8f",
   "metadata": {
    "execution": {
     "iopub.execute_input": "2021-12-27T03:15:03.176263Z",
     "iopub.status.busy": "2021-12-27T03:15:03.175577Z",
     "iopub.status.idle": "2021-12-27T03:15:04.156849Z",
     "shell.execute_reply": "2021-12-27T03:15:04.157288Z",
     "shell.execute_reply.started": "2021-12-27T02:47:47.377192Z"
    },
    "papermill": {
     "duration": 1.011485,
     "end_time": "2021-12-27T03:15:04.157535",
     "exception": false,
     "start_time": "2021-12-27T03:15:03.146050",
     "status": "completed"
    },
    "tags": []
   },
   "outputs": [],
   "source": [
    "import pandas as pd\n",
    "import numpy as np\n",
    "import matplotlib.pyplot as plt\n",
    "import seaborn as sns\n",
    "import missingno as msno"
   ]
  },
  {
   "cell_type": "code",
   "execution_count": 2,
   "id": "bb96d2e4",
   "metadata": {
    "execution": {
     "iopub.execute_input": "2021-12-27T03:15:04.184642Z",
     "iopub.status.busy": "2021-12-27T03:15:04.184144Z",
     "iopub.status.idle": "2021-12-27T03:15:04.199753Z",
     "shell.execute_reply": "2021-12-27T03:15:04.199339Z",
     "shell.execute_reply.started": "2021-12-27T02:47:48.538132Z"
    },
    "papermill": {
     "duration": 0.031334,
     "end_time": "2021-12-27T03:15:04.199856",
     "exception": false,
     "start_time": "2021-12-27T03:15:04.168522",
     "status": "completed"
    },
    "tags": []
   },
   "outputs": [
    {
     "name": "stdout",
     "output_type": "stream",
     "text": [
      "/kaggle/input/titanic/train.csv\n",
      "/kaggle/input/titanic/test.csv\n",
      "/kaggle/input/titanic/gender_submission.csv\n"
     ]
    }
   ],
   "source": [
    "# Input data files are available in the read-only \"../input/\" directory\n",
    "# For example, running this (by clicking run or pressing Shift+Enter) will list all files under the input directory\n",
    "\n",
    "import os\n",
    "for dirname, _, filenames in os.walk('/kaggle/input'):\n",
    "    for filename in filenames:\n",
    "        print(os.path.join(dirname, filename))\n",
    "\n",
    "# You can write up to 20GB to the current directory (/kaggle/working/) that gets preserved as output when you create a version using \"Save & Run All\" \n",
    "# You can also write temporary files to /kaggle/temp/, but they won't be saved outside of the current session"
   ]
  },
  {
   "cell_type": "code",
   "execution_count": 3,
   "id": "3f370265",
   "metadata": {
    "execution": {
     "iopub.execute_input": "2021-12-27T03:15:04.226282Z",
     "iopub.status.busy": "2021-12-27T03:15:04.225598Z",
     "iopub.status.idle": "2021-12-27T03:15:04.277125Z",
     "shell.execute_reply": "2021-12-27T03:15:04.277511Z",
     "shell.execute_reply.started": "2021-12-27T02:47:48.554705Z"
    },
    "papermill": {
     "duration": 0.066735,
     "end_time": "2021-12-27T03:15:04.277639",
     "exception": false,
     "start_time": "2021-12-27T03:15:04.210904",
     "status": "completed"
    },
    "tags": []
   },
   "outputs": [
    {
     "data": {
      "text/html": [
       "<div>\n",
       "<style scoped>\n",
       "    .dataframe tbody tr th:only-of-type {\n",
       "        vertical-align: middle;\n",
       "    }\n",
       "\n",
       "    .dataframe tbody tr th {\n",
       "        vertical-align: top;\n",
       "    }\n",
       "\n",
       "    .dataframe thead th {\n",
       "        text-align: right;\n",
       "    }\n",
       "</style>\n",
       "<table border=\"1\" class=\"dataframe\">\n",
       "  <thead>\n",
       "    <tr style=\"text-align: right;\">\n",
       "      <th></th>\n",
       "      <th>PassengerId</th>\n",
       "      <th>Survived</th>\n",
       "      <th>Pclass</th>\n",
       "      <th>Name</th>\n",
       "      <th>Sex</th>\n",
       "      <th>Age</th>\n",
       "      <th>SibSp</th>\n",
       "      <th>Parch</th>\n",
       "      <th>Ticket</th>\n",
       "      <th>Fare</th>\n",
       "      <th>Cabin</th>\n",
       "      <th>Embarked</th>\n",
       "    </tr>\n",
       "  </thead>\n",
       "  <tbody>\n",
       "    <tr>\n",
       "      <th>0</th>\n",
       "      <td>1</td>\n",
       "      <td>0</td>\n",
       "      <td>3</td>\n",
       "      <td>Braund, Mr. Owen Harris</td>\n",
       "      <td>male</td>\n",
       "      <td>22.0</td>\n",
       "      <td>1</td>\n",
       "      <td>0</td>\n",
       "      <td>A/5 21171</td>\n",
       "      <td>7.2500</td>\n",
       "      <td>NaN</td>\n",
       "      <td>S</td>\n",
       "    </tr>\n",
       "    <tr>\n",
       "      <th>1</th>\n",
       "      <td>2</td>\n",
       "      <td>1</td>\n",
       "      <td>1</td>\n",
       "      <td>Cumings, Mrs. John Bradley (Florence Briggs Th...</td>\n",
       "      <td>female</td>\n",
       "      <td>38.0</td>\n",
       "      <td>1</td>\n",
       "      <td>0</td>\n",
       "      <td>PC 17599</td>\n",
       "      <td>71.2833</td>\n",
       "      <td>C85</td>\n",
       "      <td>C</td>\n",
       "    </tr>\n",
       "    <tr>\n",
       "      <th>2</th>\n",
       "      <td>3</td>\n",
       "      <td>1</td>\n",
       "      <td>3</td>\n",
       "      <td>Heikkinen, Miss. Laina</td>\n",
       "      <td>female</td>\n",
       "      <td>26.0</td>\n",
       "      <td>0</td>\n",
       "      <td>0</td>\n",
       "      <td>STON/O2. 3101282</td>\n",
       "      <td>7.9250</td>\n",
       "      <td>NaN</td>\n",
       "      <td>S</td>\n",
       "    </tr>\n",
       "    <tr>\n",
       "      <th>3</th>\n",
       "      <td>4</td>\n",
       "      <td>1</td>\n",
       "      <td>1</td>\n",
       "      <td>Futrelle, Mrs. Jacques Heath (Lily May Peel)</td>\n",
       "      <td>female</td>\n",
       "      <td>35.0</td>\n",
       "      <td>1</td>\n",
       "      <td>0</td>\n",
       "      <td>113803</td>\n",
       "      <td>53.1000</td>\n",
       "      <td>C123</td>\n",
       "      <td>S</td>\n",
       "    </tr>\n",
       "    <tr>\n",
       "      <th>4</th>\n",
       "      <td>5</td>\n",
       "      <td>0</td>\n",
       "      <td>3</td>\n",
       "      <td>Allen, Mr. William Henry</td>\n",
       "      <td>male</td>\n",
       "      <td>35.0</td>\n",
       "      <td>0</td>\n",
       "      <td>0</td>\n",
       "      <td>373450</td>\n",
       "      <td>8.0500</td>\n",
       "      <td>NaN</td>\n",
       "      <td>S</td>\n",
       "    </tr>\n",
       "    <tr>\n",
       "      <th>5</th>\n",
       "      <td>6</td>\n",
       "      <td>0</td>\n",
       "      <td>3</td>\n",
       "      <td>Moran, Mr. James</td>\n",
       "      <td>male</td>\n",
       "      <td>NaN</td>\n",
       "      <td>0</td>\n",
       "      <td>0</td>\n",
       "      <td>330877</td>\n",
       "      <td>8.4583</td>\n",
       "      <td>NaN</td>\n",
       "      <td>Q</td>\n",
       "    </tr>\n",
       "    <tr>\n",
       "      <th>6</th>\n",
       "      <td>7</td>\n",
       "      <td>0</td>\n",
       "      <td>1</td>\n",
       "      <td>McCarthy, Mr. Timothy J</td>\n",
       "      <td>male</td>\n",
       "      <td>54.0</td>\n",
       "      <td>0</td>\n",
       "      <td>0</td>\n",
       "      <td>17463</td>\n",
       "      <td>51.8625</td>\n",
       "      <td>E46</td>\n",
       "      <td>S</td>\n",
       "    </tr>\n",
       "    <tr>\n",
       "      <th>7</th>\n",
       "      <td>8</td>\n",
       "      <td>0</td>\n",
       "      <td>3</td>\n",
       "      <td>Palsson, Master. Gosta Leonard</td>\n",
       "      <td>male</td>\n",
       "      <td>2.0</td>\n",
       "      <td>3</td>\n",
       "      <td>1</td>\n",
       "      <td>349909</td>\n",
       "      <td>21.0750</td>\n",
       "      <td>NaN</td>\n",
       "      <td>S</td>\n",
       "    </tr>\n",
       "    <tr>\n",
       "      <th>8</th>\n",
       "      <td>9</td>\n",
       "      <td>1</td>\n",
       "      <td>3</td>\n",
       "      <td>Johnson, Mrs. Oscar W (Elisabeth Vilhelmina Berg)</td>\n",
       "      <td>female</td>\n",
       "      <td>27.0</td>\n",
       "      <td>0</td>\n",
       "      <td>2</td>\n",
       "      <td>347742</td>\n",
       "      <td>11.1333</td>\n",
       "      <td>NaN</td>\n",
       "      <td>S</td>\n",
       "    </tr>\n",
       "    <tr>\n",
       "      <th>9</th>\n",
       "      <td>10</td>\n",
       "      <td>1</td>\n",
       "      <td>2</td>\n",
       "      <td>Nasser, Mrs. Nicholas (Adele Achem)</td>\n",
       "      <td>female</td>\n",
       "      <td>14.0</td>\n",
       "      <td>1</td>\n",
       "      <td>0</td>\n",
       "      <td>237736</td>\n",
       "      <td>30.0708</td>\n",
       "      <td>NaN</td>\n",
       "      <td>C</td>\n",
       "    </tr>\n",
       "  </tbody>\n",
       "</table>\n",
       "</div>"
      ],
      "text/plain": [
       "   PassengerId  Survived  Pclass  \\\n",
       "0            1         0       3   \n",
       "1            2         1       1   \n",
       "2            3         1       3   \n",
       "3            4         1       1   \n",
       "4            5         0       3   \n",
       "5            6         0       3   \n",
       "6            7         0       1   \n",
       "7            8         0       3   \n",
       "8            9         1       3   \n",
       "9           10         1       2   \n",
       "\n",
       "                                                Name     Sex   Age  SibSp  \\\n",
       "0                            Braund, Mr. Owen Harris    male  22.0      1   \n",
       "1  Cumings, Mrs. John Bradley (Florence Briggs Th...  female  38.0      1   \n",
       "2                             Heikkinen, Miss. Laina  female  26.0      0   \n",
       "3       Futrelle, Mrs. Jacques Heath (Lily May Peel)  female  35.0      1   \n",
       "4                           Allen, Mr. William Henry    male  35.0      0   \n",
       "5                                   Moran, Mr. James    male   NaN      0   \n",
       "6                            McCarthy, Mr. Timothy J    male  54.0      0   \n",
       "7                     Palsson, Master. Gosta Leonard    male   2.0      3   \n",
       "8  Johnson, Mrs. Oscar W (Elisabeth Vilhelmina Berg)  female  27.0      0   \n",
       "9                Nasser, Mrs. Nicholas (Adele Achem)  female  14.0      1   \n",
       "\n",
       "   Parch            Ticket     Fare Cabin Embarked  \n",
       "0      0         A/5 21171   7.2500   NaN        S  \n",
       "1      0          PC 17599  71.2833   C85        C  \n",
       "2      0  STON/O2. 3101282   7.9250   NaN        S  \n",
       "3      0            113803  53.1000  C123        S  \n",
       "4      0            373450   8.0500   NaN        S  \n",
       "5      0            330877   8.4583   NaN        Q  \n",
       "6      0             17463  51.8625   E46        S  \n",
       "7      1            349909  21.0750   NaN        S  \n",
       "8      2            347742  11.1333   NaN        S  \n",
       "9      0            237736  30.0708   NaN        C  "
      ]
     },
     "execution_count": 3,
     "metadata": {},
     "output_type": "execute_result"
    }
   ],
   "source": [
    "train_df = pd.read_csv('/kaggle/input/titanic/train.csv')\n",
    "test_df = pd.read_csv('/kaggle/input/titanic/test.csv')\n",
    "\n",
    "train_df.head(10)"
   ]
  },
  {
   "cell_type": "code",
   "execution_count": 4,
   "id": "a6674903",
   "metadata": {
    "execution": {
     "iopub.execute_input": "2021-12-27T03:15:04.303561Z",
     "iopub.status.busy": "2021-12-27T03:15:04.302688Z",
     "iopub.status.idle": "2021-12-27T03:15:04.324094Z",
     "shell.execute_reply": "2021-12-27T03:15:04.324514Z",
     "shell.execute_reply.started": "2021-12-27T02:47:48.613020Z"
    },
    "papermill": {
     "duration": 0.035687,
     "end_time": "2021-12-27T03:15:04.324649",
     "exception": false,
     "start_time": "2021-12-27T03:15:04.288962",
     "status": "completed"
    },
    "tags": []
   },
   "outputs": [
    {
     "name": "stdout",
     "output_type": "stream",
     "text": [
      "<class 'pandas.core.frame.DataFrame'>\n",
      "RangeIndex: 891 entries, 0 to 890\n",
      "Data columns (total 12 columns):\n",
      " #   Column       Non-Null Count  Dtype  \n",
      "---  ------       --------------  -----  \n",
      " 0   PassengerId  891 non-null    int64  \n",
      " 1   Survived     891 non-null    int64  \n",
      " 2   Pclass       891 non-null    int64  \n",
      " 3   Name         891 non-null    object \n",
      " 4   Sex          891 non-null    object \n",
      " 5   Age          714 non-null    float64\n",
      " 6   SibSp        891 non-null    int64  \n",
      " 7   Parch        891 non-null    int64  \n",
      " 8   Ticket       891 non-null    object \n",
      " 9   Fare         891 non-null    float64\n",
      " 10  Cabin        204 non-null    object \n",
      " 11  Embarked     889 non-null    object \n",
      "dtypes: float64(2), int64(5), object(5)\n",
      "memory usage: 83.7+ KB\n"
     ]
    }
   ],
   "source": [
    "train_df.info()"
   ]
  },
  {
   "cell_type": "code",
   "execution_count": 5,
   "id": "fa12d261",
   "metadata": {
    "execution": {
     "iopub.execute_input": "2021-12-27T03:15:04.354244Z",
     "iopub.status.busy": "2021-12-27T03:15:04.353738Z",
     "iopub.status.idle": "2021-12-27T03:15:04.358967Z",
     "shell.execute_reply": "2021-12-27T03:15:04.359375Z",
     "shell.execute_reply.started": "2021-12-27T02:47:48.641003Z"
    },
    "papermill": {
     "duration": 0.023313,
     "end_time": "2021-12-27T03:15:04.359504",
     "exception": false,
     "start_time": "2021-12-27T03:15:04.336191",
     "status": "completed"
    },
    "tags": []
   },
   "outputs": [
    {
     "data": {
      "text/plain": [
       "347082      7\n",
       "CA. 2343    7\n",
       "1601        7\n",
       "3101295     6\n",
       "CA 2144     6\n",
       "           ..\n",
       "9234        1\n",
       "19988       1\n",
       "2693        1\n",
       "PC 17612    1\n",
       "370376      1\n",
       "Name: Ticket, Length: 681, dtype: int64"
      ]
     },
     "execution_count": 5,
     "metadata": {},
     "output_type": "execute_result"
    }
   ],
   "source": [
    "train_df[\"Ticket\"].value_counts()"
   ]
  },
  {
   "cell_type": "code",
   "execution_count": 6,
   "id": "4e7d4d30",
   "metadata": {
    "execution": {
     "iopub.execute_input": "2021-12-27T03:15:04.385304Z",
     "iopub.status.busy": "2021-12-27T03:15:04.384821Z",
     "iopub.status.idle": "2021-12-27T03:15:04.392744Z",
     "shell.execute_reply": "2021-12-27T03:15:04.392345Z",
     "shell.execute_reply.started": "2021-12-27T02:47:48.653540Z"
    },
    "papermill": {
     "duration": 0.021883,
     "end_time": "2021-12-27T03:15:04.392846",
     "exception": false,
     "start_time": "2021-12-27T03:15:04.370963",
     "status": "completed"
    },
    "tags": []
   },
   "outputs": [
    {
     "data": {
      "text/plain": [
       "B96 B98        4\n",
       "G6             4\n",
       "C23 C25 C27    4\n",
       "C22 C26        3\n",
       "F33            3\n",
       "              ..\n",
       "E34            1\n",
       "C7             1\n",
       "C54            1\n",
       "E36            1\n",
       "C148           1\n",
       "Name: Cabin, Length: 147, dtype: int64"
      ]
     },
     "execution_count": 6,
     "metadata": {},
     "output_type": "execute_result"
    }
   ],
   "source": [
    "train_df[\"Cabin\"].value_counts()"
   ]
  },
  {
   "cell_type": "code",
   "execution_count": 7,
   "id": "9d5a01b8",
   "metadata": {
    "execution": {
     "iopub.execute_input": "2021-12-27T03:15:04.420819Z",
     "iopub.status.busy": "2021-12-27T03:15:04.420335Z",
     "iopub.status.idle": "2021-12-27T03:15:04.430092Z",
     "shell.execute_reply": "2021-12-27T03:15:04.430462Z",
     "shell.execute_reply.started": "2021-12-27T02:47:48.666177Z"
    },
    "papermill": {
     "duration": 0.025003,
     "end_time": "2021-12-27T03:15:04.430590",
     "exception": false,
     "start_time": "2021-12-27T03:15:04.405587",
     "status": "completed"
    },
    "tags": []
   },
   "outputs": [
    {
     "data": {
      "text/plain": [
       "8.0500     43\n",
       "13.0000    42\n",
       "7.8958     38\n",
       "7.7500     34\n",
       "26.0000    31\n",
       "           ..\n",
       "35.0000     1\n",
       "28.5000     1\n",
       "6.2375      1\n",
       "14.0000     1\n",
       "10.5167     1\n",
       "Name: Fare, Length: 248, dtype: int64"
      ]
     },
     "execution_count": 7,
     "metadata": {},
     "output_type": "execute_result"
    }
   ],
   "source": [
    "train_df[\"Fare\"].value_counts()"
   ]
  },
  {
   "cell_type": "markdown",
   "id": "ba48a8aa",
   "metadata": {
    "papermill": {
     "duration": 0.011545,
     "end_time": "2021-12-27T03:15:04.454149",
     "exception": false,
     "start_time": "2021-12-27T03:15:04.442604",
     "status": "completed"
    },
    "tags": []
   },
   "source": [
    "Investigating the height distribution versus those who survived/did not survive"
   ]
  },
  {
   "cell_type": "code",
   "execution_count": 8,
   "id": "87034390",
   "metadata": {
    "execution": {
     "iopub.execute_input": "2021-12-27T03:15:04.480530Z",
     "iopub.status.busy": "2021-12-27T03:15:04.480060Z",
     "iopub.status.idle": "2021-12-27T03:15:04.806614Z",
     "shell.execute_reply": "2021-12-27T03:15:04.806996Z",
     "shell.execute_reply.started": "2021-12-27T02:47:48.685866Z"
    },
    "papermill": {
     "duration": 0.34141,
     "end_time": "2021-12-27T03:15:04.807152",
     "exception": false,
     "start_time": "2021-12-27T03:15:04.465742",
     "status": "completed"
    },
    "tags": []
   },
   "outputs": [
    {
     "data": {
      "text/plain": [
       "<AxesSubplot:xlabel='Age', ylabel='Count'>"
      ]
     },
     "execution_count": 8,
     "metadata": {},
     "output_type": "execute_result"
    },
    {
     "data": {
      "image/png": "[encoded data removed]",
      "text/plain": [
       "<Figure size 432x288 with 1 Axes>"
      ]
     },
     "metadata": {
      "needs_background": "light"
     },
     "output_type": "display_data"
    }
   ],
   "source": [
    "sns.histplot(data=train_df, x=\"Age\", hue=\"Survived\", multiple=\"stack\")"
   ]
  },
  {
   "cell_type": "markdown",
   "id": "3bbd28b5",
   "metadata": {
    "papermill": {
     "duration": 0.01274,
     "end_time": "2021-12-27T03:15:04.832917",
     "exception": false,
     "start_time": "2021-12-27T03:15:04.820177",
     "status": "completed"
    },
    "tags": []
   },
   "source": [
    "**Observation**\n",
    "It seems there was an almost 50% survival rate per age bin"
   ]
  },
  {
   "cell_type": "code",
   "execution_count": 9,
   "id": "2e1c4719",
   "metadata": {
    "execution": {
     "iopub.execute_input": "2021-12-27T03:15:04.880670Z",
     "iopub.status.busy": "2021-12-27T03:15:04.865472Z",
     "iopub.status.idle": "2021-12-27T03:15:05.044955Z",
     "shell.execute_reply": "2021-12-27T03:15:05.044062Z",
     "shell.execute_reply.started": "2021-12-27T02:47:49.122941Z"
    },
    "papermill": {
     "duration": 0.199571,
     "end_time": "2021-12-27T03:15:05.045176",
     "exception": false,
     "start_time": "2021-12-27T03:15:04.845605",
     "status": "completed"
    },
    "tags": []
   },
   "outputs": [
    {
     "data": {
      "text/plain": [
       "<AxesSubplot:xlabel='Sex', ylabel='Count'>"
      ]
     },
     "execution_count": 9,
     "metadata": {},
     "output_type": "execute_result"
    },
    {
     "data": {
      "image/png": "[encoded data removed]",
      "text/plain": [
       "<Figure size 432x288 with 1 Axes>"
      ]
     },
     "metadata": {
      "needs_background": "light"
     },
     "output_type": "display_data"
    }
   ],
   "source": [
    "sns.histplot(data=train_df, x=\"Sex\", hue=\"Survived\", multiple=\"dodge\", shrink=.8)"
   ]
  },
  {
   "cell_type": "markdown",
   "id": "6e291948",
   "metadata": {
    "papermill": {
     "duration": 0.020379,
     "end_time": "2021-12-27T03:15:05.086277",
     "exception": false,
     "start_time": "2021-12-27T03:15:05.065898",
     "status": "completed"
    },
    "tags": []
   },
   "source": [
    "It seems like more male passengers died than females. Also the number of males on board the ship was higher than that of females"
   ]
  },
  {
   "cell_type": "code",
   "execution_count": 10,
   "id": "53cc48f6",
   "metadata": {
    "execution": {
     "iopub.execute_input": "2021-12-27T03:15:05.133400Z",
     "iopub.status.busy": "2021-12-27T03:15:05.132750Z",
     "iopub.status.idle": "2021-12-27T03:15:05.290545Z",
     "shell.execute_reply": "2021-12-27T03:15:05.289841Z",
     "shell.execute_reply.started": "2021-12-27T02:47:49.366050Z"
    },
    "papermill": {
     "duration": 0.184039,
     "end_time": "2021-12-27T03:15:05.290669",
     "exception": false,
     "start_time": "2021-12-27T03:15:05.106630",
     "status": "completed"
    },
    "tags": []
   },
   "outputs": [
    {
     "data": {
      "image/png": "[encoded data removed]",
      "text/plain": [
       "<Figure size 432x288 with 1 Axes>"
      ]
     },
     "metadata": {
      "needs_background": "light"
     },
     "output_type": "display_data"
    }
   ],
   "source": [
    "#Boxplotting Age\n",
    "ax = sns.boxplot(x=\"Sex\", y=\"Age\", data = train_df)"
   ]
  },
  {
   "cell_type": "markdown",
   "id": "e7dd26f8",
   "metadata": {
    "papermill": {
     "duration": 0.021117,
     "end_time": "2021-12-27T03:15:05.332954",
     "exception": false,
     "start_time": "2021-12-27T03:15:05.311837",
     "status": "completed"
    },
    "tags": []
   },
   "source": [
    "It seems there are some outliers in the Male Ages, so we will use median to fill in missing values"
   ]
  },
  {
   "cell_type": "code",
   "execution_count": 11,
   "id": "30eddcad",
   "metadata": {
    "execution": {
     "iopub.execute_input": "2021-12-27T03:15:05.380541Z",
     "iopub.status.busy": "2021-12-27T03:15:05.379308Z",
     "iopub.status.idle": "2021-12-27T03:15:05.383425Z",
     "shell.execute_reply": "2021-12-27T03:15:05.383828Z",
     "shell.execute_reply.started": "2021-12-27T02:47:49.576512Z"
    },
    "papermill": {
     "duration": 0.028678,
     "end_time": "2021-12-27T03:15:05.383961",
     "exception": false,
     "start_time": "2021-12-27T03:15:05.355283",
     "status": "completed"
    },
    "tags": []
   },
   "outputs": [],
   "source": [
    "#Copies of train_df and test_df\n",
    "train_tr = train_df.copy()\n",
    "test_tr = test_df.copy()"
   ]
  },
  {
   "cell_type": "code",
   "execution_count": 12,
   "id": "6610ea56",
   "metadata": {
    "execution": {
     "iopub.execute_input": "2021-12-27T03:15:05.415109Z",
     "iopub.status.busy": "2021-12-27T03:15:05.414575Z",
     "iopub.status.idle": "2021-12-27T03:15:05.422911Z",
     "shell.execute_reply": "2021-12-27T03:15:05.423311Z",
     "shell.execute_reply.started": "2021-12-27T03:09:19.154487Z"
    },
    "papermill": {
     "duration": 0.02524,
     "end_time": "2021-12-27T03:15:05.423452",
     "exception": false,
     "start_time": "2021-12-27T03:15:05.398212",
     "status": "completed"
    },
    "tags": []
   },
   "outputs": [
    {
     "data": {
      "text/plain": [
       "PassengerId      0\n",
       "Survived         0\n",
       "Pclass           0\n",
       "Name             0\n",
       "Sex              0\n",
       "Age              0\n",
       "SibSp            0\n",
       "Parch            0\n",
       "Ticket           0\n",
       "Fare             0\n",
       "Cabin          687\n",
       "Embarked         2\n",
       "dtype: int64"
      ]
     },
     "execution_count": 12,
     "metadata": {},
     "output_type": "execute_result"
    }
   ],
   "source": [
    "train_tr['Age'].fillna(train_tr['Age'].median(), inplace=True)\n",
    "test_tr['Age'].fillna(test_tr['Age'].median(), inplace=True)\n",
    "\n",
    "train_tr.isnull().sum()\n"
   ]
  },
  {
   "cell_type": "code",
   "execution_count": null,
   "id": "2fe559e7",
   "metadata": {
    "papermill": {
     "duration": 0.021768,
     "end_time": "2021-12-27T03:15:05.460128",
     "exception": false,
     "start_time": "2021-12-27T03:15:05.438360",
     "status": "completed"
    },
    "tags": []
   },
   "outputs": [],
   "source": []
  }
 ],
 "metadata": {
  "kernelspec": {
   "display_name": "Python 3",
   "language": "python",
   "name": "python3"
  },
  "language_info": {
   "codemirror_mode": {
    "name": "ipython",
    "version": 3
   },
   "file_extension": ".py",
   "mimetype": "text/x-python",
   "name": "python",
   "nbconvert_exporter": "python",
   "pygments_lexer": "ipython3",
   "version": "3.7.12"
  },
  "papermill": {
   "default_parameters": {},
   "duration": 11.468415,
   "end_time": "2021-12-27T03:15:06.293789",
   "environment_variables": {},
   "exception": null,
   "input_path": "__notebook__.ipynb",
   "output_path": "__notebook__.ipynb",
   "parameters": {},
   "start_time": "2021-12-27T03:14:54.825374",
   "version": "2.3.3"
  }
 },
 "nbformat": 4,
 "nbformat_minor": 5
}
